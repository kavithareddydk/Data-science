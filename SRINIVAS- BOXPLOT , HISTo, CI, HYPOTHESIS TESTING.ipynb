{
 "cells": [
  {
   "cell_type": "code",
   "execution_count": null,
   "id": "1ff2891a",
   "metadata": {},
   "outputs": [],
   "source": [
    "ipip install google.colab"
   ]
  },
  {
   "cell_type": "code",
   "execution_count": null,
   "id": "7b8b9f4d",
   "metadata": {},
   "outputs": [],
   "source": [
    "import matplotlib.pyplot as plt"
   ]
  },
  {
   "cell_type": "code",
   "execution_count": null,
   "id": "6908fdca",
   "metadata": {},
   "outputs": [],
   "source": [
    "import numpy as np"
   ]
  },
  {
   "cell_type": "code",
   "execution_count": null,
   "id": "e24a1814",
   "metadata": {},
   "outputs": [],
   "source": [
    "import pandas as pd"
   ]
  },
  {
   "cell_type": "code",
   "execution_count": null,
   "id": "b1ed975f",
   "metadata": {},
   "outputs": [],
   "source": [
    "import warnings\n",
    "warnings.filterwarnings('ignore')"
   ]
  },
  {
   "cell_type": "code",
   "execution_count": null,
   "id": "307e19f7",
   "metadata": {},
   "outputs": [],
   "source": [
    "# matlotlib to render plots in the notebook\n",
    "## matplotlib inline"
   ]
  },
  {
   "cell_type": "code",
   "execution_count": null,
   "id": "6b46d4fc",
   "metadata": {},
   "outputs": [],
   "source": [
    "x=np.arange(1,201,2)  #### here we are generating inbuilt data from numpy, by taking 1 to 201 with 2 spaces between\n",
    "y=np.random.randint(1,10,100)"
   ]
  },
  {
   "cell_type": "code",
   "execution_count": null,
   "id": "1539fb08",
   "metadata": {},
   "outputs": [],
   "source": [
    "x"
   ]
  },
  {
   "cell_type": "code",
   "execution_count": null,
   "id": "d6ff893a",
   "metadata": {},
   "outputs": [],
   "source": [
    "import numpy as np\n",
    "print(np.__version__) "
   ]
  },
  {
   "cell_type": "code",
   "execution_count": null,
   "id": "f3226cd3",
   "metadata": {},
   "outputs": [],
   "source": [
    "import pandas as pd\n",
    "df =pd.read_csv(r\"C:\\Users\\User\\Desktop\\python classes\\Salaries.csv\")"
   ]
  },
  {
   "cell_type": "code",
   "execution_count": null,
   "id": "86236795",
   "metadata": {},
   "outputs": [],
   "source": [
    "df"
   ]
  },
  {
   "cell_type": "code",
   "execution_count": null,
   "id": "88d5fdf0",
   "metadata": {},
   "outputs": [],
   "source": [
    "import seaborn as sns"
   ]
  },
  {
   "cell_type": "code",
   "execution_count": null,
   "id": "866656a1",
   "metadata": {},
   "outputs": [],
   "source": [
    "sns.distplot(df[\"salary\"])"
   ]
  },
  {
   "cell_type": "code",
   "execution_count": null,
   "id": "9514dc07",
   "metadata": {},
   "outputs": [],
   "source": [
    "## note: on histogram, its continuos distrbution with  x = salary values, \n",
    "##    we can asnwer questions like; probabilities asssocited with x values:  (x> 75000) or (x < 75000)"
   ]
  },
  {
   "cell_type": "code",
   "execution_count": null,
   "id": "565ab94f",
   "metadata": {},
   "outputs": [],
   "source": [
    "import seaborn as sns\n",
    "sns.distplot(df[\"service\"])"
   ]
  },
  {
   "cell_type": "code",
   "execution_count": null,
   "id": "b73dddf3",
   "metadata": {},
   "outputs": [],
   "source": [
    "import numpy as np\n",
    "X= [50,60,40,70,80]\n",
    "mu, std = np.mean(X), np.std(X)"
   ]
  },
  {
   "cell_type": "code",
   "execution_count": null,
   "id": "1259b2bc",
   "metadata": {},
   "outputs": [],
   "source": [
    "## standardisation of data = (X-mue)/ sigma"
   ]
  },
  {
   "cell_type": "code",
   "execution_count": null,
   "id": "67961eb8",
   "metadata": {},
   "outputs": [],
   "source": [
    "for i in range(len(X)):\n",
    "    X[i]= (X[i]-mu)/std\n",
    "z_scores = X\n",
    "print(X) "
   ]
  },
  {
   "cell_type": "code",
   "execution_count": null,
   "id": "f3fad199",
   "metadata": {
    "scrolled": true
   },
   "outputs": [],
   "source": [
    "phd= list(df[\"phd\"].values)\n",
    "phd"
   ]
  },
  {
   "cell_type": "code",
   "execution_count": null,
   "id": "00830661",
   "metadata": {},
   "outputs": [],
   "source": [
    "mu,std = np.mean(phd),np.std(phd)"
   ]
  },
  {
   "cell_type": "code",
   "execution_count": null,
   "id": "333a6d5d",
   "metadata": {},
   "outputs": [],
   "source": [
    "mu,std"
   ]
  },
  {
   "cell_type": "code",
   "execution_count": null,
   "id": "3d2ddadd",
   "metadata": {},
   "outputs": [],
   "source": [
    "for i in range(len(phd)):\n",
    "    phd[i] = (phd[i]-mu)/std\n",
    "z_scores = phd\n",
    "print(np.round(z_scores,2))"
   ]
  },
  {
   "cell_type": "code",
   "execution_count": null,
   "id": "5e428350",
   "metadata": {},
   "outputs": [],
   "source": [
    "salary = df[\"salary\"].values"
   ]
  },
  {
   "cell_type": "code",
   "execution_count": null,
   "id": "4f10a34b",
   "metadata": {},
   "outputs": [],
   "source": [
    "## WORKING WITH THEBNORMAL DISTRIBUTION AND PROBABILITIES\n",
    "## FIND THE PROBABILITY THAT THE RANDOM VARIABLE X TAKES VALUES LESS THAN OR EQUAL TO 1000 GIVEN THE MEAN VALUE \n",
    "# IS EQUAL TO 2000 AND STD DEVIATION = 1500\n",
    "\n",
    "from scipy import stats\n",
    "stats.norm.cdf(1000,2000,1500)  ### formula for probabilty = stats.norm.cdf(X, mean, std dev)"
   ]
  },
  {
   "cell_type": "code",
   "execution_count": null,
   "id": "5c525717",
   "metadata": {},
   "outputs": [],
   "source": [
    "### for the above distribution find the probabilty that takes 2500 and higher\n",
    "1-stats.norm.cdf(2500,2000,1500)"
   ]
  },
  {
   "cell_type": "code",
   "execution_count": null,
   "id": "3700c65c",
   "metadata": {},
   "outputs": [],
   "source": [
    "## USING Z SCORES\n",
    "\n",
    "## z score for 1000 is\n",
    "z1000 = (1000-2000)/1500 ##  here its value of (X-mu)/std dev"
   ]
  },
  {
   "cell_type": "code",
   "execution_count": null,
   "id": "129a3529",
   "metadata": {},
   "outputs": [],
   "source": [
    "stats.norm.cdf(z1000,0,1)"
   ]
  },
  {
   "cell_type": "code",
   "execution_count": null,
   "id": "9a96abc0",
   "metadata": {},
   "outputs": [],
   "source": [
    "z2500 =(2500-2000)/1500"
   ]
  },
  {
   "cell_type": "code",
   "execution_count": null,
   "id": "7fb486af",
   "metadata": {},
   "outputs": [],
   "source": [
    "1- stats.norm.cdf(z2500,0,1)"
   ]
  },
  {
   "cell_type": "code",
   "execution_count": null,
   "id": "9c333557",
   "metadata": {},
   "outputs": [],
   "source": [
    "## here both proballities values of x and z scores of x both are same"
   ]
  },
  {
   "cell_type": "code",
   "execution_count": null,
   "id": "f22ea341",
   "metadata": {},
   "outputs": [],
   "source": [
    "## for the above tribution find the probabilties that x takes values in between1000 nd 300 i.e 1000<= x <=3000"
   ]
  },
  {
   "cell_type": "code",
   "execution_count": null,
   "id": "4bf80ec8",
   "metadata": {},
   "outputs": [],
   "source": [
    "stats.norm.cdf(3000,2000,1500)- stats.norm.cdf(1000,2000,1500)"
   ]
  },
  {
   "cell_type": "code",
   "execution_count": null,
   "id": "a3b06990",
   "metadata": {},
   "outputs": [],
   "source": [
    "## Estimation of Z statistic value, given the probability values.\n",
    "stats.norm.ppf(0.975)## for confidence level of 95%"
   ]
  },
  {
   "cell_type": "code",
   "execution_count": null,
   "id": "1020752c",
   "metadata": {},
   "outputs": [],
   "source": [
    "stats.norm.ppf(0.95)## for confidence level of 90%"
   ]
  },
  {
   "cell_type": "code",
   "execution_count": null,
   "id": "b6b00709",
   "metadata": {},
   "outputs": [],
   "source": [
    "stats.norm.ppf(0.995)## for confidence level of 99%"
   ]
  },
  {
   "cell_type": "code",
   "execution_count": null,
   "id": "23dcd82d",
   "metadata": {},
   "outputs": [],
   "source": [
    "## Credit card problwm\n",
    "##formula used to calcualte CI value = mean + or - Z(sigma/root n)"
   ]
  },
  {
   "cell_type": "code",
   "execution_count": null,
   "id": "c408cd4f",
   "metadata": {},
   "outputs": [],
   "source": [
    "## for upper CI\n",
    "ci_upper = 1990+1.96*(2500/np.sqrt(140))  ## must give * symbol"
   ]
  },
  {
   "cell_type": "code",
   "execution_count": null,
   "id": "7df8f2e7",
   "metadata": {},
   "outputs": [],
   "source": [
    "ci_upper"
   ]
  },
  {
   "cell_type": "code",
   "execution_count": null,
   "id": "3926cfe3",
   "metadata": {},
   "outputs": [],
   "source": [
    "## for lower CI\n",
    "ci_lower = 1990-1.96*(2500/np.sqrt(140))"
   ]
  },
  {
   "cell_type": "code",
   "execution_count": null,
   "id": "c849613d",
   "metadata": {},
   "outputs": [],
   "source": [
    "ci_lower"
   ]
  },
  {
   "cell_type": "code",
   "execution_count": null,
   "id": "4aae50d1",
   "metadata": {},
   "outputs": [],
   "source": [
    "## inference= he entire 1lakh aumuni is likely to maintain balance range [1575 Rs , 2404]rs with 95% CI. "
   ]
  },
  {
   "cell_type": "markdown",
   "id": "a9e808b8",
   "metadata": {},
   "source": [
    "# T distribution"
   ]
  },
  {
   "cell_type": "code",
   "execution_count": null,
   "id": "207ac2d3",
   "metadata": {},
   "outputs": [],
   "source": [
    "## when population std dev is unknown, we can replace sigma with S i,e sample std dev\n"
   ]
  },
  {
   "cell_type": "code",
   "execution_count": null,
   "id": "7c51bbcd",
   "metadata": {},
   "outputs": [],
   "source": [
    "## CREDIT CARD PROBLEM WIT POPULATION STD DEVIATION UNKNOWN\n",
    "## question; find the t value with 95% confidence level for 140 samples.... so, df = n-1, df= 139"
   ]
  },
  {
   "cell_type": "code",
   "execution_count": null,
   "id": "59a7fab8",
   "metadata": {},
   "outputs": [],
   "source": [
    "t_value=  stats.t.ppf(0.975,139)"
   ]
  },
  {
   "cell_type": "code",
   "execution_count": null,
   "id": "92904f6b",
   "metadata": {},
   "outputs": [],
   "source": [
    "t_value"
   ]
  },
  {
   "cell_type": "code",
   "execution_count": null,
   "id": "e8dda973",
   "metadata": {},
   "outputs": [],
   "source": [
    "## Sample std dev = 2833\n",
    "## ci_upper = 1990+t_value* (s/(rootn))\n",
    "ci_upper = 1990 + 1.977*(2833/np.sqrt(140))\n",
    "ci_upper"
   ]
  },
  {
   "cell_type": "code",
   "execution_count": null,
   "id": "9cb45ce6",
   "metadata": {},
   "outputs": [],
   "source": [
    "ci_lower = 1990 - 1.977*(2833/np.sqrt(140))\n",
    "ci_lower"
   ]
  },
  {
   "cell_type": "markdown",
   "id": "20d632c5",
   "metadata": {},
   "source": [
    "# hypothesis testing on loyalty program"
   ]
  },
  {
   "cell_type": "code",
   "execution_count": null,
   "id": "1caafbbd",
   "metadata": {},
   "outputs": [],
   "source": [
    "p_values = 1-stats.t.cdf(2.23,79)"
   ]
  },
  {
   "cell_type": "code",
   "execution_count": null,
   "id": "b2457b45",
   "metadata": {},
   "outputs": [],
   "source": [
    "p_values"
   ]
  },
  {
   "cell_type": "code",
   "execution_count": null,
   "id": "511edc9e",
   "metadata": {},
   "outputs": [],
   "source": [
    " ###here , if\n",
    "   # p_value < alpha : accept null hypothesis 0.014< 0.05. so accept null hypo\n",
    "   # p value> alpha : reject null hypo"
   ]
  },
  {
   "cell_type": "markdown",
   "id": "828e8ab7",
   "metadata": {},
   "source": [
    "# one sample one tail test"
   ]
  },
  {
   "cell_type": "code",
   "execution_count": null,
   "id": "3f8f6346",
   "metadata": {},
   "outputs": [],
   "source": [
    "# Example 2: icream and salmonella (my work)"
   ]
  },
  {
   "cell_type": "code",
   "execution_count": 5,
   "id": "65e30205",
   "metadata": {},
   "outputs": [],
   "source": [
    " SAL = [0.593,0.142,0.329,0.691,0.231,0.793,0.591,0.392,0.418]"
   ]
  },
  {
   "cell_type": "code",
   "execution_count": null,
   "id": "10eca914",
   "metadata": {},
   "outputs": [],
   "source": [
    "### or instead of SAL u can write --- data= pd.series([0.593,0.142,0.329,0.691,0.231,0.793,0.591,0.392,0.418])"
   ]
  },
  {
   "cell_type": "code",
   "execution_count": null,
   "id": "e0b9e14c",
   "metadata": {},
   "outputs": [],
   "source": [
    "import numpy as np \n",
    "import pandas as pd\n"
   ]
  },
  {
   "cell_type": "code",
   "execution_count": null,
   "id": "83ade7e5",
   "metadata": {},
   "outputs": [],
   "source": [
    "mu, std = np.mean(SAL), np.std(SAL)"
   ]
  },
  {
   "cell_type": "code",
   "execution_count": null,
   "id": "9e9d6a81",
   "metadata": {},
   "outputs": [],
   "source": [
    "mu"
   ]
  },
  {
   "cell_type": "code",
   "execution_count": null,
   "id": "317d7d84",
   "metadata": {},
   "outputs": [],
   "source": [
    "std"
   ]
  },
  {
   "cell_type": "code",
   "execution_count": null,
   "id": "337d87d4",
   "metadata": {},
   "outputs": [],
   "source": [
    "t_test = (0.46-0.30)/(0.20/np.sqrt(9))\n",
    "t_test"
   ]
  },
  {
   "cell_type": "code",
   "execution_count": null,
   "id": "1445ad66",
   "metadata": {},
   "outputs": [],
   "source": [
    "from scipy import stats\n",
    "p_value= 1-stats.t.cdf(2.40,8)\n",
    "p_value"
   ]
  },
  {
   "cell_type": "code",
   "execution_count": null,
   "id": "9d518788",
   "metadata": {},
   "outputs": [],
   "source": [
    "###  OR ANOTHE WAY TO DO THIS PROBLEM"
   ]
  },
  {
   "cell_type": "code",
   "execution_count": null,
   "id": "36152d74",
   "metadata": {},
   "outputs": [],
   "source": [
    "# USING STATS.T.CDF()"
   ]
  },
  {
   "cell_type": "code",
   "execution_count": null,
   "id": "712df212",
   "metadata": {},
   "outputs": [],
   "source": [
    "import numpy as np\n",
    "import pandas as pd\n",
    "from scipy import stats\n",
    "data= pd.Series([0.593,0.142,0.329,0.691,0.231,0.793,0.591,0.392,0.418])  ### S in series hould be capital\n",
    "m= np.mean(data)\n",
    "sd= np.std(data)"
   ]
  },
  {
   "cell_type": "code",
   "execution_count": null,
   "id": "6abbcbef",
   "metadata": {},
   "outputs": [],
   "source": [
    "print(\"mean :\", round(m,2), \"Standard Deviation:\", round(sd,2))"
   ]
  },
  {
   "cell_type": "code",
   "execution_count": null,
   "id": "00a21179",
   "metadata": {},
   "outputs": [],
   "source": [
    "t = (m-0.3)/(sd/np.sqrt(9))"
   ]
  },
  {
   "cell_type": "code",
   "execution_count": null,
   "id": "b9832c7c",
   "metadata": {},
   "outputs": [],
   "source": [
    "t"
   ]
  },
  {
   "cell_type": "code",
   "execution_count": null,
   "id": "0542d21c",
   "metadata": {},
   "outputs": [],
   "source": [
    "p_value =1-stats.t.cdf(t,8)"
   ]
  },
  {
   "cell_type": "code",
   "execution_count": null,
   "id": "8fe60521",
   "metadata": {},
   "outputs": [],
   "source": [
    "## decision: p < alpha ; so reject nul hypothesis, means bacteria is causing illness"
   ]
  },
  {
   "cell_type": "code",
   "execution_count": null,
   "id": "d1e1ef87",
   "metadata": {},
   "outputs": [],
   "source": [
    "import scipy\n",
    "import numpy as np\n"
   ]
  },
  {
   "cell_type": "code",
   "execution_count": null,
   "id": "2edc1021",
   "metadata": {},
   "outputs": [],
   "source": [
    "z_satistic = (4.6-4)/ (3/np.sqrt(50))"
   ]
  },
  {
   "cell_type": "code",
   "execution_count": null,
   "id": "e92eec7e",
   "metadata": {},
   "outputs": [],
   "source": [
    "z_satistic"
   ]
  },
  {
   "cell_type": "markdown",
   "id": "1df0c4a2",
   "metadata": {},
   "source": [
    "# STANDARD DEVIATION  for Samples and population"
   ]
  },
  {
   "cell_type": "code",
   "execution_count": 3,
   "id": "daf3b659",
   "metadata": {},
   "outputs": [],
   "source": [
    "import statistics\n",
    "import numpy as np"
   ]
  },
  {
   "cell_type": "markdown",
   "id": "27235361",
   "metadata": {},
   "source": [
    "IN NUMPY, STD MEANS POPULATION STD deviation"
   ]
  },
  {
   "cell_type": "code",
   "execution_count": 6,
   "id": "99c5b03b",
   "metadata": {},
   "outputs": [],
   "source": [
    "S= np.std(SAL)  ### "
   ]
  },
  {
   "cell_type": "code",
   "execution_count": 7,
   "id": "c31b5fb1",
   "metadata": {},
   "outputs": [
    {
     "name": "stdout",
     "output_type": "stream",
     "text": [
      "0.20440597464148594\n"
     ]
    }
   ],
   "source": [
    "print(S)"
   ]
  },
  {
   "cell_type": "markdown",
   "id": "498dfb99",
   "metadata": {},
   "source": [
    "ANOTHER FORMULA FOR POPLATION STD USING STATISTICS"
   ]
  },
  {
   "cell_type": "code",
   "execution_count": 8,
   "id": "f62f5a0d",
   "metadata": {},
   "outputs": [],
   "source": [
    "pop_std = statistics.pstdev(SAL)"
   ]
  },
  {
   "cell_type": "code",
   "execution_count": 10,
   "id": "e4b956b9",
   "metadata": {},
   "outputs": [
    {
     "data": {
      "text/plain": [
       "0.20440597464148597"
      ]
     },
     "execution_count": 10,
     "metadata": {},
     "output_type": "execute_result"
    }
   ],
   "source": [
    "pop_std"
   ]
  },
  {
   "cell_type": "markdown",
   "id": "3b27e22c",
   "metadata": {},
   "source": [
    "Formula for sample standard deviation using statistics"
   ]
  },
  {
   "cell_type": "code",
   "execution_count": 11,
   "id": "feafe632",
   "metadata": {},
   "outputs": [],
   "source": [
    "samples_std =statistics.stdev(SAL) ###"
   ]
  },
  {
   "cell_type": "code",
   "execution_count": 13,
   "id": "27daa266",
   "metadata": {},
   "outputs": [
    {
     "data": {
      "text/plain": [
       "0.2168052761760603"
      ]
     },
     "execution_count": 13,
     "metadata": {},
     "output_type": "execute_result"
    }
   ],
   "source": [
    "samples_std"
   ]
  },
  {
   "cell_type": "code",
   "execution_count": null,
   "id": "a14f2711",
   "metadata": {},
   "outputs": [],
   "source": [
    "### slight difference wil be observed but the final outcone of rejection or acceptance of hypothesis will be same.\n",
    "98*/+"
   ]
  }
 ],
 "metadata": {
  "kernelspec": {
   "display_name": "Python 3 (ipykernel)",
   "language": "python",
   "name": "python3"
  },
  "language_info": {
   "codemirror_mode": {
    "name": "ipython",
    "version": 3
   },
   "file_extension": ".py",
   "mimetype": "text/x-python",
   "name": "python",
   "nbconvert_exporter": "python",
   "pygments_lexer": "ipython3",
   "version": "3.11.3"
  }
 },
 "nbformat": 4,
 "nbformat_minor": 5
}
