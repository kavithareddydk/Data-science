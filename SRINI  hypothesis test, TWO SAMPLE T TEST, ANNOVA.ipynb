{
 "cells": [
  {
   "cell_type": "code",
   "execution_count": 1,
   "id": "34cb0e3e",
   "metadata": {},
   "outputs": [],
   "source": [
    "import pandas as pd\n",
    "import numpy as np\n",
    "from scipy import stats"
   ]
  },
  {
   "cell_type": "code",
   "execution_count": 2,
   "id": "8120be16",
   "metadata": {},
   "outputs": [],
   "source": [
    "control = pd.Series([91,87,99,77,88,91])\n",
    "treatment = pd.Series([101,110,103,93,99,104])"
   ]
  },
  {
   "cell_type": "code",
   "execution_count": 3,
   "id": "d30d518c",
   "metadata": {},
   "outputs": [],
   "source": [
    "x1_bar = np.mean(control) \n",
    "x2_bar = np.mean(treatment)"
   ]
  },
  {
   "cell_type": "code",
   "execution_count": 5,
   "id": "d00ad420",
   "metadata": {},
   "outputs": [
    {
     "name": "stdout",
     "output_type": "stream",
     "text": [
      "mean: 88.83\n"
     ]
    }
   ],
   "source": [
    "print(\"mean:\", round(x1_bar,2))"
   ]
  },
  {
   "cell_type": "code",
   "execution_count": 6,
   "id": "4928ebaf",
   "metadata": {},
   "outputs": [
    {
     "name": "stdout",
     "output_type": "stream",
     "text": [
      "mean: 101.67\n"
     ]
    }
   ],
   "source": [
    "print(\"mean:\", round(x2_bar,2))"
   ]
  },
  {
   "cell_type": "code",
   "execution_count": 7,
   "id": "9ab72cef",
   "metadata": {},
   "outputs": [],
   "source": [
    "s1 = np.std(control)\n",
    "s2 =np.std(treatment)"
   ]
  },
  {
   "cell_type": "code",
   "execution_count": 14,
   "id": "940566f5",
   "metadata": {},
   "outputs": [],
   "source": [
    "s1_square = s1**2\n",
    "s2_square = s2**2"
   ]
  },
  {
   "cell_type": "code",
   "execution_count": 15,
   "id": "0761381a",
   "metadata": {},
   "outputs": [
    {
     "name": "stdout",
     "output_type": "stream",
     "text": [
      "42.80555555555556 26.555555555555557\n"
     ]
    }
   ],
   "source": [
    "print(s1_square, s2_square)"
   ]
  },
  {
   "cell_type": "code",
   "execution_count": 30,
   "id": "633d2129",
   "metadata": {},
   "outputs": [],
   "source": [
    "t1 = (x1_bar - x2_bar)/(np.sqrt((s1_square/6)+(s2_square/6)))"
   ]
  },
  {
   "cell_type": "code",
   "execution_count": 34,
   "id": "6792814e",
   "metadata": {},
   "outputs": [
    {
     "name": "stdout",
     "output_type": "stream",
     "text": [
      "-3.7744795714432353\n"
     ]
    }
   ],
   "source": [
    "print(t1)"
   ]
  },
  {
   "cell_type": "markdown",
   "id": "a2cb80e4",
   "metadata": {},
   "source": [
    "df=10"
   ]
  },
  {
   "cell_type": "code",
   "execution_count": 35,
   "id": "d1f6ca1c",
   "metadata": {},
   "outputs": [],
   "source": [
    "df=10"
   ]
  },
  {
   "cell_type": "code",
   "execution_count": 36,
   "id": "da527d66",
   "metadata": {},
   "outputs": [
    {
     "data": {
      "text/plain": [
       "0.0036347249007625724"
      ]
     },
     "execution_count": 36,
     "metadata": {},
     "output_type": "execute_result"
    }
   ],
   "source": [
    "2* stats.t.cdf(t1,df)"
   ]
  },
  {
   "cell_type": "markdown",
   "id": "e9f979ee",
   "metadata": {},
   "source": [
    "ANOTHER METHOD usin STATSTIC"
   ]
  },
  {
   "cell_type": "code",
   "execution_count": 20,
   "id": "b18f6cfc",
   "metadata": {},
   "outputs": [],
   "source": [
    "import statistics\n",
    "import pandas as pd\n",
    "import numpy as np\n",
    "from scipy import stats\n",
    "\n",
    "control = pd.Series([91,87,99,77,88,91])\n",
    "treatment = pd.Series([101,110,103,93,99,104])\n"
   ]
  },
  {
   "cell_type": "code",
   "execution_count": 13,
   "id": "acefafff",
   "metadata": {},
   "outputs": [],
   "source": [
    "m1 = statistics.mean(control)\n",
    "m2 =statistics.mean(treatment)"
   ]
  },
  {
   "cell_type": "code",
   "execution_count": 14,
   "id": "7846c11a",
   "metadata": {},
   "outputs": [],
   "source": [
    "sd1 = statistics.stdev(control)\n",
    "sd2 = statistics.stdev(treatment)"
   ]
  },
  {
   "cell_type": "code",
   "execution_count": 15,
   "id": "7bf48abf",
   "metadata": {},
   "outputs": [
    {
     "data": {
      "text/plain": [
       "(88.83333333333333, 101.66666666666667, 7.167054253085201, 5.645056834671079)"
      ]
     },
     "execution_count": 15,
     "metadata": {},
     "output_type": "execute_result"
    }
   ],
   "source": [
    "m1,m2,sd1,sd2"
   ]
  },
  {
   "cell_type": "code",
   "execution_count": 16,
   "id": "c60573b1",
   "metadata": {},
   "outputs": [],
   "source": [
    "t1=(m1-m2)/(np.sqrt(((sd1**2)/6)+ ((sd2**2)/6)))"
   ]
  },
  {
   "cell_type": "code",
   "execution_count": 17,
   "id": "e61dfd48",
   "metadata": {},
   "outputs": [
    {
     "data": {
      "text/plain": [
       "-3.445612673536487"
      ]
     },
     "execution_count": 17,
     "metadata": {},
     "output_type": "execute_result"
    }
   ],
   "source": [
    "t1"
   ]
  },
  {
   "cell_type": "code",
   "execution_count": 18,
   "id": "9ee4246e",
   "metadata": {},
   "outputs": [],
   "source": [
    "df=10"
   ]
  },
  {
   "cell_type": "code",
   "execution_count": 21,
   "id": "c60132f8",
   "metadata": {},
   "outputs": [
    {
     "data": {
      "text/plain": [
       "0.006272124350809803"
      ]
     },
     "execution_count": 21,
     "metadata": {},
     "output_type": "execute_result"
    }
   ],
   "source": [
    "2* stats.t.cdf(t1,df)"
   ]
  },
  {
   "cell_type": "code",
   "execution_count": 22,
   "id": "755f35d7",
   "metadata": {},
   "outputs": [
    {
     "name": "stdout",
     "output_type": "stream",
     "text": [
      "decision = reject null hy[pothesis]\n"
     ]
    }
   ],
   "source": [
    "print(\"decision = reject null hy[pothesis]\")  ## h0 = mu c= mu t"
   ]
  },
  {
   "cell_type": "code",
   "execution_count": 23,
   "id": "2d7f5681",
   "metadata": {},
   "outputs": [],
   "source": [
    "## p value < alpha, so mu control is not equal to mu treatment;;; so reject null hypothesis"
   ]
  },
  {
   "cell_type": "code",
   "execution_count": 24,
   "id": "0c1c0f1e",
   "metadata": {},
   "outputs": [
    {
     "ename": "SyntaxError",
     "evalue": "invalid syntax (1417864447.py, line 1)",
     "output_type": "error",
     "traceback": [
      "\u001b[1;36m  Cell \u001b[1;32mIn[24], line 1\u001b[1;36m\u001b[0m\n\u001b[1;33m    ASSUMPTION : s1 and S2 are different\u001b[0m\n\u001b[1;37m                           ^\u001b[0m\n\u001b[1;31mSyntaxError\u001b[0m\u001b[1;31m:\u001b[0m invalid syntax\n"
     ]
    }
   ],
   "source": [
    "ASSUMPTION : s1 and S2 are different"
   ]
  },
  {
   "cell_type": "markdown",
   "id": "3a83bfb7",
   "metadata": {},
   "source": [
    "# POPULATION PROPORTION TEST"
   ]
  },
  {
   "cell_type": "code",
   "execution_count": 26,
   "id": "c2cfad5d",
   "metadata": {},
   "outputs": [],
   "source": [
    "###  TWO POPULATION PROPORTIONS (P1 AND P2) ARE TWO BE TESTED FOR EQUALITY BASED ON INDEPENDENT SAMPLES (p1 and p2) DRAWN FROM\n",
    "## THE TWO POPULATION\n",
    "### NULL = H0 = P1 -P2 =0\n",
    "### ALTERNATE = Ha = P1-P2 := 0"
   ]
  },
  {
   "cell_type": "code",
   "execution_count": 31,
   "id": "a2043d21",
   "metadata": {},
   "outputs": [],
   "source": [
    "n1 = 247\n",
    "p1 = 0.37\n",
    "\n",
    "n2 =308\n",
    "p2 =0.39"
   ]
  },
  {
   "cell_type": "code",
   "execution_count": 32,
   "id": "1b6c66da",
   "metadata": {},
   "outputs": [],
   "source": [
    "sample1 = np.random.binomial(1,p1,n1)"
   ]
  },
  {
   "cell_type": "markdown",
   "id": "7cbfd262",
   "metadata": {},
   "source": []
  },
  {
   "cell_type": "code",
   "execution_count": 33,
   "id": "de9757f6",
   "metadata": {},
   "outputs": [
    {
     "data": {
      "text/plain": [
       "array([0, 0, 0, 0, 0, 0, 1, 1, 1, 0, 0, 1, 0, 1, 1, 1, 0, 0, 1, 0, 0, 1,\n",
       "       1, 0, 0, 1, 1, 1, 0, 1, 0, 1, 0, 0, 0, 0, 0, 0, 1, 0, 0, 1, 0, 1,\n",
       "       0, 1, 0, 0, 1, 0, 0, 0, 1, 1, 0, 0, 1, 0, 0, 0, 0, 0, 0, 0, 1, 1,\n",
       "       0, 0, 1, 0, 0, 0, 0, 0, 0, 1, 0, 0, 0, 1, 0, 0, 1, 0, 0, 0, 0, 1,\n",
       "       1, 1, 0, 0, 0, 1, 0, 1, 0, 0, 0, 1, 0, 0, 1, 0, 0, 0, 0, 0, 1, 0,\n",
       "       0, 0, 0, 0, 0, 1, 1, 1, 0, 0, 0, 0, 0, 0, 0, 1, 1, 0, 0, 0, 0, 0,\n",
       "       0, 0, 0, 0, 0, 1, 0, 1, 1, 0, 1, 0, 1, 1, 0, 0, 0, 1, 0, 1, 0, 1,\n",
       "       0, 1, 0, 1, 0, 0, 0, 0, 0, 1, 0, 1, 1, 0, 1, 0, 1, 0, 1, 0, 1, 0,\n",
       "       1, 0, 0, 1, 0, 1, 0, 0, 1, 1, 0, 0, 0, 1, 0, 0, 0, 0, 0, 0, 0, 1,\n",
       "       0, 0, 1, 1, 1, 0, 1, 0, 1, 0, 0, 0, 0, 1, 1, 0, 1, 1, 1, 0, 0, 1,\n",
       "       0, 0, 0, 0, 1, 1, 0, 1, 0, 0, 0, 1, 1, 1, 0, 1, 0, 0, 0, 1, 0, 1,\n",
       "       0, 1, 0, 0, 1])"
      ]
     },
     "execution_count": 33,
     "metadata": {},
     "output_type": "execute_result"
    }
   ],
   "source": [
    "sample1"
   ]
  },
  {
   "cell_type": "code",
   "execution_count": 34,
   "id": "a6c718a9",
   "metadata": {},
   "outputs": [],
   "source": [
    "sample2 = np.random.binomial(1,p2,n2)"
   ]
  },
  {
   "cell_type": "code",
   "execution_count": 35,
   "id": "afff1c69",
   "metadata": {},
   "outputs": [
    {
     "data": {
      "text/plain": [
       "array([1, 0, 0, 0, 1, 0, 0, 1, 1, 0, 0, 1, 0, 0, 0, 0, 0, 1, 1, 0, 0, 0,\n",
       "       0, 0, 1, 1, 0, 1, 1, 0, 0, 1, 0, 1, 0, 0, 0, 0, 1, 0, 0, 0, 0, 0,\n",
       "       0, 1, 0, 0, 1, 0, 0, 0, 1, 0, 0, 1, 0, 0, 1, 1, 1, 0, 0, 0, 1, 1,\n",
       "       0, 0, 1, 1, 1, 0, 0, 1, 0, 1, 0, 0, 0, 1, 0, 1, 1, 1, 0, 1, 0, 0,\n",
       "       0, 0, 1, 1, 0, 1, 0, 0, 1, 0, 0, 0, 1, 1, 1, 0, 0, 0, 1, 0, 1, 1,\n",
       "       0, 1, 1, 1, 1, 1, 0, 0, 0, 0, 1, 0, 0, 0, 0, 1, 0, 0, 0, 0, 1, 1,\n",
       "       0, 0, 1, 0, 0, 0, 1, 1, 0, 0, 1, 1, 1, 1, 1, 0, 0, 0, 1, 0, 1, 0,\n",
       "       0, 1, 0, 0, 1, 0, 0, 0, 0, 1, 0, 0, 0, 0, 0, 0, 0, 1, 0, 1, 0, 0,\n",
       "       0, 1, 1, 1, 1, 1, 1, 0, 1, 0, 0, 1, 0, 1, 1, 1, 0, 0, 1, 0, 0, 1,\n",
       "       1, 0, 0, 1, 0, 1, 1, 0, 1, 0, 1, 0, 0, 1, 0, 1, 0, 0, 0, 1, 0, 1,\n",
       "       0, 0, 0, 0, 0, 0, 1, 0, 0, 0, 0, 1, 0, 0, 1, 0, 0, 1, 0, 0, 0, 0,\n",
       "       1, 0, 0, 0, 0, 1, 1, 0, 0, 0, 0, 0, 0, 1, 1, 1, 1, 1, 0, 0, 1, 0,\n",
       "       0, 0, 0, 0, 0, 1, 0, 0, 0, 1, 0, 1, 1, 0, 1, 0, 0, 0, 0, 0, 1, 0,\n",
       "       0, 0, 0, 1, 1, 0, 1, 1, 0, 1, 1, 0, 1, 1, 0, 0, 0, 0, 1, 0, 0, 1])"
      ]
     },
     "execution_count": 35,
     "metadata": {},
     "output_type": "execute_result"
    }
   ],
   "source": [
    "sample2"
   ]
  },
  {
   "cell_type": "code",
   "execution_count": null,
   "id": "030d679c",
   "metadata": {},
   "outputs": [],
   "source": [
    "#### APPLY T 6EST "
   ]
  },
  {
   "cell_type": "code",
   "execution_count": 42,
   "id": "77a7b8c6",
   "metadata": {},
   "outputs": [
    {
     "data": {
      "text/plain": [
       "Ttest_indResult(statistic=-0.6289006646777408, pvalue=0.5296737768024257)"
      ]
     },
     "execution_count": 42,
     "metadata": {},
     "output_type": "execute_result"
    }
   ],
   "source": [
    "stats.ttest_ind(sample1,sample2)"
   ]
  },
  {
   "cell_type": "code",
   "execution_count": 45,
   "id": "d19bbcf5",
   "metadata": {},
   "outputs": [],
   "source": [
    "## P_value > alpha : hence do not reject null hypothesis\n",
    "## So, p1= p2"
   ]
  },
  {
   "cell_type": "code",
   "execution_count": null,
   "id": "a4943a00",
   "metadata": {},
   "outputs": [],
   "source": []
  },
  {
   "cell_type": "code",
   "execution_count": null,
   "id": "ac2e7c80",
   "metadata": {},
   "outputs": [],
   "source": []
  }
 ],
 "metadata": {
  "kernelspec": {
   "display_name": "Python 3 (ipykernel)",
   "language": "python",
   "name": "python3"
  },
  "language_info": {
   "codemirror_mode": {
    "name": "ipython",
    "version": 3
   },
   "file_extension": ".py",
   "mimetype": "text/x-python",
   "name": "python",
   "nbconvert_exporter": "python",
   "pygments_lexer": "ipython3",
   "version": "3.11.3"
  }
 },
 "nbformat": 4,
 "nbformat_minor": 5
}
