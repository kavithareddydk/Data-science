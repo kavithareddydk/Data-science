{
 "cells": [
  {
   "cell_type": "code",
   "execution_count": 1,
   "id": "88aa6fec",
   "metadata": {},
   "outputs": [],
   "source": [
    "import pandas as pd\n",
    "import matplotlib.pyplot as plt\n",
    "import seaborn as sns\n",
    "import statsmodels.formula.api as smf\n",
    "import numpy as np"
   ]
  },
  {
   "cell_type": "code",
   "execution_count": 2,
   "id": "7380d4ab",
   "metadata": {},
   "outputs": [
    {
     "data": {
      "text/html": [
       "<div>\n",
       "<style scoped>\n",
       "    .dataframe tbody tr th:only-of-type {\n",
       "        vertical-align: middle;\n",
       "    }\n",
       "\n",
       "    .dataframe tbody tr th {\n",
       "        vertical-align: top;\n",
       "    }\n",
       "\n",
       "    .dataframe thead th {\n",
       "        text-align: right;\n",
       "    }\n",
       "</style>\n",
       "<table border=\"1\" class=\"dataframe\">\n",
       "  <thead>\n",
       "    <tr style=\"text-align: right;\">\n",
       "      <th></th>\n",
       "      <th>HP</th>\n",
       "      <th>MPG</th>\n",
       "      <th>VOL</th>\n",
       "      <th>SP</th>\n",
       "      <th>WT</th>\n",
       "    </tr>\n",
       "  </thead>\n",
       "  <tbody>\n",
       "    <tr>\n",
       "      <th>0</th>\n",
       "      <td>49</td>\n",
       "      <td>53.700681</td>\n",
       "      <td>89</td>\n",
       "      <td>104.185353</td>\n",
       "      <td>28.762059</td>\n",
       "    </tr>\n",
       "    <tr>\n",
       "      <th>1</th>\n",
       "      <td>55</td>\n",
       "      <td>50.013401</td>\n",
       "      <td>92</td>\n",
       "      <td>105.461264</td>\n",
       "      <td>30.466833</td>\n",
       "    </tr>\n",
       "    <tr>\n",
       "      <th>2</th>\n",
       "      <td>55</td>\n",
       "      <td>50.013401</td>\n",
       "      <td>92</td>\n",
       "      <td>105.461264</td>\n",
       "      <td>30.193597</td>\n",
       "    </tr>\n",
       "    <tr>\n",
       "      <th>3</th>\n",
       "      <td>70</td>\n",
       "      <td>45.696322</td>\n",
       "      <td>92</td>\n",
       "      <td>113.461264</td>\n",
       "      <td>30.632114</td>\n",
       "    </tr>\n",
       "    <tr>\n",
       "      <th>4</th>\n",
       "      <td>53</td>\n",
       "      <td>50.504232</td>\n",
       "      <td>92</td>\n",
       "      <td>104.461264</td>\n",
       "      <td>29.889149</td>\n",
       "    </tr>\n",
       "    <tr>\n",
       "      <th>...</th>\n",
       "      <td>...</td>\n",
       "      <td>...</td>\n",
       "      <td>...</td>\n",
       "      <td>...</td>\n",
       "      <td>...</td>\n",
       "    </tr>\n",
       "    <tr>\n",
       "      <th>76</th>\n",
       "      <td>322</td>\n",
       "      <td>36.900000</td>\n",
       "      <td>50</td>\n",
       "      <td>169.598513</td>\n",
       "      <td>16.132947</td>\n",
       "    </tr>\n",
       "    <tr>\n",
       "      <th>77</th>\n",
       "      <td>238</td>\n",
       "      <td>19.197888</td>\n",
       "      <td>115</td>\n",
       "      <td>150.576579</td>\n",
       "      <td>37.923113</td>\n",
       "    </tr>\n",
       "    <tr>\n",
       "      <th>78</th>\n",
       "      <td>263</td>\n",
       "      <td>34.000000</td>\n",
       "      <td>50</td>\n",
       "      <td>151.598513</td>\n",
       "      <td>15.769625</td>\n",
       "    </tr>\n",
       "    <tr>\n",
       "      <th>79</th>\n",
       "      <td>295</td>\n",
       "      <td>19.833733</td>\n",
       "      <td>119</td>\n",
       "      <td>167.944460</td>\n",
       "      <td>39.423099</td>\n",
       "    </tr>\n",
       "    <tr>\n",
       "      <th>80</th>\n",
       "      <td>236</td>\n",
       "      <td>12.101263</td>\n",
       "      <td>107</td>\n",
       "      <td>139.840817</td>\n",
       "      <td>34.948615</td>\n",
       "    </tr>\n",
       "  </tbody>\n",
       "</table>\n",
       "<p>81 rows × 5 columns</p>\n",
       "</div>"
      ],
      "text/plain": [
       "     HP        MPG  VOL          SP         WT\n",
       "0    49  53.700681   89  104.185353  28.762059\n",
       "1    55  50.013401   92  105.461264  30.466833\n",
       "2    55  50.013401   92  105.461264  30.193597\n",
       "3    70  45.696322   92  113.461264  30.632114\n",
       "4    53  50.504232   92  104.461264  29.889149\n",
       "..  ...        ...  ...         ...        ...\n",
       "76  322  36.900000   50  169.598513  16.132947\n",
       "77  238  19.197888  115  150.576579  37.923113\n",
       "78  263  34.000000   50  151.598513  15.769625\n",
       "79  295  19.833733  119  167.944460  39.423099\n",
       "80  236  12.101263  107  139.840817  34.948615\n",
       "\n",
       "[81 rows x 5 columns]"
      ]
     },
     "execution_count": 2,
     "metadata": {},
     "output_type": "execute_result"
    }
   ],
   "source": [
    "cars = pd.read_csv(\"Cars.csv\")\n",
    "cars"
   ]
  },
  {
   "cell_type": "code",
   "execution_count": 3,
   "id": "05954c5b",
   "metadata": {},
   "outputs": [],
   "source": [
    "# to move MPG to the last column\n",
    "cars = pd.DataFrame(cars, columns=[\"HP\", \"VOL\", \"SP\",\"WT\", \"MPG\"]) ## WE ARE MOVING IT(MPG) BY ARRANGING COLUMNS LIKE THIS"
   ]
  },
  {
   "cell_type": "code",
   "execution_count": 4,
   "id": "8d9ed2ea",
   "metadata": {},
   "outputs": [
    {
     "data": {
      "text/html": [
       "<div>\n",
       "<style scoped>\n",
       "    .dataframe tbody tr th:only-of-type {\n",
       "        vertical-align: middle;\n",
       "    }\n",
       "\n",
       "    .dataframe tbody tr th {\n",
       "        vertical-align: top;\n",
       "    }\n",
       "\n",
       "    .dataframe thead th {\n",
       "        text-align: right;\n",
       "    }\n",
       "</style>\n",
       "<table border=\"1\" class=\"dataframe\">\n",
       "  <thead>\n",
       "    <tr style=\"text-align: right;\">\n",
       "      <th></th>\n",
       "      <th>HP</th>\n",
       "      <th>VOL</th>\n",
       "      <th>SP</th>\n",
       "      <th>WT</th>\n",
       "      <th>MPG</th>\n",
       "    </tr>\n",
       "  </thead>\n",
       "  <tbody>\n",
       "    <tr>\n",
       "      <th>0</th>\n",
       "      <td>49</td>\n",
       "      <td>89</td>\n",
       "      <td>104.185353</td>\n",
       "      <td>28.762059</td>\n",
       "      <td>53.700681</td>\n",
       "    </tr>\n",
       "    <tr>\n",
       "      <th>1</th>\n",
       "      <td>55</td>\n",
       "      <td>92</td>\n",
       "      <td>105.461264</td>\n",
       "      <td>30.466833</td>\n",
       "      <td>50.013401</td>\n",
       "    </tr>\n",
       "    <tr>\n",
       "      <th>2</th>\n",
       "      <td>55</td>\n",
       "      <td>92</td>\n",
       "      <td>105.461264</td>\n",
       "      <td>30.193597</td>\n",
       "      <td>50.013401</td>\n",
       "    </tr>\n",
       "    <tr>\n",
       "      <th>3</th>\n",
       "      <td>70</td>\n",
       "      <td>92</td>\n",
       "      <td>113.461264</td>\n",
       "      <td>30.632114</td>\n",
       "      <td>45.696322</td>\n",
       "    </tr>\n",
       "    <tr>\n",
       "      <th>4</th>\n",
       "      <td>53</td>\n",
       "      <td>92</td>\n",
       "      <td>104.461264</td>\n",
       "      <td>29.889149</td>\n",
       "      <td>50.504232</td>\n",
       "    </tr>\n",
       "    <tr>\n",
       "      <th>...</th>\n",
       "      <td>...</td>\n",
       "      <td>...</td>\n",
       "      <td>...</td>\n",
       "      <td>...</td>\n",
       "      <td>...</td>\n",
       "    </tr>\n",
       "    <tr>\n",
       "      <th>76</th>\n",
       "      <td>322</td>\n",
       "      <td>50</td>\n",
       "      <td>169.598513</td>\n",
       "      <td>16.132947</td>\n",
       "      <td>36.900000</td>\n",
       "    </tr>\n",
       "    <tr>\n",
       "      <th>77</th>\n",
       "      <td>238</td>\n",
       "      <td>115</td>\n",
       "      <td>150.576579</td>\n",
       "      <td>37.923113</td>\n",
       "      <td>19.197888</td>\n",
       "    </tr>\n",
       "    <tr>\n",
       "      <th>78</th>\n",
       "      <td>263</td>\n",
       "      <td>50</td>\n",
       "      <td>151.598513</td>\n",
       "      <td>15.769625</td>\n",
       "      <td>34.000000</td>\n",
       "    </tr>\n",
       "    <tr>\n",
       "      <th>79</th>\n",
       "      <td>295</td>\n",
       "      <td>119</td>\n",
       "      <td>167.944460</td>\n",
       "      <td>39.423099</td>\n",
       "      <td>19.833733</td>\n",
       "    </tr>\n",
       "    <tr>\n",
       "      <th>80</th>\n",
       "      <td>236</td>\n",
       "      <td>107</td>\n",
       "      <td>139.840817</td>\n",
       "      <td>34.948615</td>\n",
       "      <td>12.101263</td>\n",
       "    </tr>\n",
       "  </tbody>\n",
       "</table>\n",
       "<p>81 rows × 5 columns</p>\n",
       "</div>"
      ],
      "text/plain": [
       "     HP  VOL          SP         WT        MPG\n",
       "0    49   89  104.185353  28.762059  53.700681\n",
       "1    55   92  105.461264  30.466833  50.013401\n",
       "2    55   92  105.461264  30.193597  50.013401\n",
       "3    70   92  113.461264  30.632114  45.696322\n",
       "4    53   92  104.461264  29.889149  50.504232\n",
       "..  ...  ...         ...        ...        ...\n",
       "76  322   50  169.598513  16.132947  36.900000\n",
       "77  238  115  150.576579  37.923113  19.197888\n",
       "78  263   50  151.598513  15.769625  34.000000\n",
       "79  295  119  167.944460  39.423099  19.833733\n",
       "80  236  107  139.840817  34.948615  12.101263\n",
       "\n",
       "[81 rows x 5 columns]"
      ]
     },
     "execution_count": 4,
     "metadata": {},
     "output_type": "execute_result"
    }
   ],
   "source": [
    "cars"
   ]
  },
  {
   "cell_type": "code",
   "execution_count": 5,
   "id": "6ba17f7e",
   "metadata": {},
   "outputs": [
    {
     "data": {
      "text/html": [
       "<div>\n",
       "<style scoped>\n",
       "    .dataframe tbody tr th:only-of-type {\n",
       "        vertical-align: middle;\n",
       "    }\n",
       "\n",
       "    .dataframe tbody tr th {\n",
       "        vertical-align: top;\n",
       "    }\n",
       "\n",
       "    .dataframe thead th {\n",
       "        text-align: right;\n",
       "    }\n",
       "</style>\n",
       "<table border=\"1\" class=\"dataframe\">\n",
       "  <thead>\n",
       "    <tr style=\"text-align: right;\">\n",
       "      <th></th>\n",
       "      <th>HP</th>\n",
       "      <th>VOL</th>\n",
       "      <th>SP</th>\n",
       "      <th>WT</th>\n",
       "      <th>MPG</th>\n",
       "    </tr>\n",
       "  </thead>\n",
       "  <tbody>\n",
       "    <tr>\n",
       "      <th>0</th>\n",
       "      <td>49</td>\n",
       "      <td>89</td>\n",
       "      <td>104.185353</td>\n",
       "      <td>28.762059</td>\n",
       "      <td>53.700681</td>\n",
       "    </tr>\n",
       "    <tr>\n",
       "      <th>1</th>\n",
       "      <td>55</td>\n",
       "      <td>92</td>\n",
       "      <td>105.461264</td>\n",
       "      <td>30.466833</td>\n",
       "      <td>50.013401</td>\n",
       "    </tr>\n",
       "    <tr>\n",
       "      <th>2</th>\n",
       "      <td>55</td>\n",
       "      <td>92</td>\n",
       "      <td>105.461264</td>\n",
       "      <td>30.193597</td>\n",
       "      <td>50.013401</td>\n",
       "    </tr>\n",
       "    <tr>\n",
       "      <th>3</th>\n",
       "      <td>70</td>\n",
       "      <td>92</td>\n",
       "      <td>113.461264</td>\n",
       "      <td>30.632114</td>\n",
       "      <td>45.696322</td>\n",
       "    </tr>\n",
       "    <tr>\n",
       "      <th>4</th>\n",
       "      <td>53</td>\n",
       "      <td>92</td>\n",
       "      <td>104.461264</td>\n",
       "      <td>29.889149</td>\n",
       "      <td>50.504232</td>\n",
       "    </tr>\n",
       "  </tbody>\n",
       "</table>\n",
       "</div>"
      ],
      "text/plain": [
       "   HP  VOL          SP         WT        MPG\n",
       "0  49   89  104.185353  28.762059  53.700681\n",
       "1  55   92  105.461264  30.466833  50.013401\n",
       "2  55   92  105.461264  30.193597  50.013401\n",
       "3  70   92  113.461264  30.632114  45.696322\n",
       "4  53   92  104.461264  29.889149  50.504232"
      ]
     },
     "execution_count": 5,
     "metadata": {},
     "output_type": "execute_result"
    }
   ],
   "source": [
    "cars.head()"
   ]
  },
  {
   "cell_type": "code",
   "execution_count": 6,
   "id": "442adf11",
   "metadata": {},
   "outputs": [
    {
     "name": "stdout",
     "output_type": "stream",
     "text": [
      "<class 'pandas.core.frame.DataFrame'>\n",
      "RangeIndex: 81 entries, 0 to 80\n",
      "Data columns (total 5 columns):\n",
      " #   Column  Non-Null Count  Dtype  \n",
      "---  ------  --------------  -----  \n",
      " 0   HP      81 non-null     int64  \n",
      " 1   VOL     81 non-null     int64  \n",
      " 2   SP      81 non-null     float64\n",
      " 3   WT      81 non-null     float64\n",
      " 4   MPG     81 non-null     float64\n",
      "dtypes: float64(3), int64(2)\n",
      "memory usage: 3.3 KB\n"
     ]
    }
   ],
   "source": [
    "cars.info()"
   ]
  },
  {
   "cell_type": "code",
   "execution_count": 7,
   "id": "39922a7a",
   "metadata": {},
   "outputs": [
    {
     "data": {
      "text/html": [
       "<div>\n",
       "<style scoped>\n",
       "    .dataframe tbody tr th:only-of-type {\n",
       "        vertical-align: middle;\n",
       "    }\n",
       "\n",
       "    .dataframe tbody tr th {\n",
       "        vertical-align: top;\n",
       "    }\n",
       "\n",
       "    .dataframe thead th {\n",
       "        text-align: right;\n",
       "    }\n",
       "</style>\n",
       "<table border=\"1\" class=\"dataframe\">\n",
       "  <thead>\n",
       "    <tr style=\"text-align: right;\">\n",
       "      <th></th>\n",
       "      <th>HP</th>\n",
       "      <th>VOL</th>\n",
       "      <th>SP</th>\n",
       "      <th>WT</th>\n",
       "      <th>MPG</th>\n",
       "    </tr>\n",
       "  </thead>\n",
       "  <tbody>\n",
       "    <tr>\n",
       "      <th>0</th>\n",
       "      <td>False</td>\n",
       "      <td>False</td>\n",
       "      <td>False</td>\n",
       "      <td>False</td>\n",
       "      <td>False</td>\n",
       "    </tr>\n",
       "    <tr>\n",
       "      <th>1</th>\n",
       "      <td>False</td>\n",
       "      <td>False</td>\n",
       "      <td>False</td>\n",
       "      <td>False</td>\n",
       "      <td>False</td>\n",
       "    </tr>\n",
       "    <tr>\n",
       "      <th>2</th>\n",
       "      <td>False</td>\n",
       "      <td>False</td>\n",
       "      <td>False</td>\n",
       "      <td>False</td>\n",
       "      <td>False</td>\n",
       "    </tr>\n",
       "    <tr>\n",
       "      <th>3</th>\n",
       "      <td>False</td>\n",
       "      <td>False</td>\n",
       "      <td>False</td>\n",
       "      <td>False</td>\n",
       "      <td>False</td>\n",
       "    </tr>\n",
       "    <tr>\n",
       "      <th>4</th>\n",
       "      <td>False</td>\n",
       "      <td>False</td>\n",
       "      <td>False</td>\n",
       "      <td>False</td>\n",
       "      <td>False</td>\n",
       "    </tr>\n",
       "    <tr>\n",
       "      <th>...</th>\n",
       "      <td>...</td>\n",
       "      <td>...</td>\n",
       "      <td>...</td>\n",
       "      <td>...</td>\n",
       "      <td>...</td>\n",
       "    </tr>\n",
       "    <tr>\n",
       "      <th>76</th>\n",
       "      <td>False</td>\n",
       "      <td>False</td>\n",
       "      <td>False</td>\n",
       "      <td>False</td>\n",
       "      <td>False</td>\n",
       "    </tr>\n",
       "    <tr>\n",
       "      <th>77</th>\n",
       "      <td>False</td>\n",
       "      <td>False</td>\n",
       "      <td>False</td>\n",
       "      <td>False</td>\n",
       "      <td>False</td>\n",
       "    </tr>\n",
       "    <tr>\n",
       "      <th>78</th>\n",
       "      <td>False</td>\n",
       "      <td>False</td>\n",
       "      <td>False</td>\n",
       "      <td>False</td>\n",
       "      <td>False</td>\n",
       "    </tr>\n",
       "    <tr>\n",
       "      <th>79</th>\n",
       "      <td>False</td>\n",
       "      <td>False</td>\n",
       "      <td>False</td>\n",
       "      <td>False</td>\n",
       "      <td>False</td>\n",
       "    </tr>\n",
       "    <tr>\n",
       "      <th>80</th>\n",
       "      <td>False</td>\n",
       "      <td>False</td>\n",
       "      <td>False</td>\n",
       "      <td>False</td>\n",
       "      <td>False</td>\n",
       "    </tr>\n",
       "  </tbody>\n",
       "</table>\n",
       "<p>81 rows × 5 columns</p>\n",
       "</div>"
      ],
      "text/plain": [
       "       HP    VOL     SP     WT    MPG\n",
       "0   False  False  False  False  False\n",
       "1   False  False  False  False  False\n",
       "2   False  False  False  False  False\n",
       "3   False  False  False  False  False\n",
       "4   False  False  False  False  False\n",
       "..    ...    ...    ...    ...    ...\n",
       "76  False  False  False  False  False\n",
       "77  False  False  False  False  False\n",
       "78  False  False  False  False  False\n",
       "79  False  False  False  False  False\n",
       "80  False  False  False  False  False\n",
       "\n",
       "[81 rows x 5 columns]"
      ]
     },
     "execution_count": 7,
     "metadata": {},
     "output_type": "execute_result"
    }
   ],
   "source": [
    "cars.isna()"
   ]
  },
  {
   "cell_type": "code",
   "execution_count": 8,
   "id": "140d867b",
   "metadata": {},
   "outputs": [
    {
     "data": {
      "text/plain": [
       "HP     0\n",
       "VOL    0\n",
       "SP     0\n",
       "WT     0\n",
       "MPG    0\n",
       "dtype: int64"
      ]
     },
     "execution_count": 8,
     "metadata": {},
     "output_type": "execute_result"
    }
   ],
   "source": [
    "cars.isna().sum() ## checking for misssing values"
   ]
  },
  {
   "cell_type": "code",
   "execution_count": 9,
   "id": "a1201b33",
   "metadata": {},
   "outputs": [
    {
     "data": {
      "text/html": [
       "<div>\n",
       "<style scoped>\n",
       "    .dataframe tbody tr th:only-of-type {\n",
       "        vertical-align: middle;\n",
       "    }\n",
       "\n",
       "    .dataframe tbody tr th {\n",
       "        vertical-align: top;\n",
       "    }\n",
       "\n",
       "    .dataframe thead th {\n",
       "        text-align: right;\n",
       "    }\n",
       "</style>\n",
       "<table border=\"1\" class=\"dataframe\">\n",
       "  <thead>\n",
       "    <tr style=\"text-align: right;\">\n",
       "      <th></th>\n",
       "      <th>HP</th>\n",
       "      <th>VOL</th>\n",
       "      <th>SP</th>\n",
       "      <th>WT</th>\n",
       "      <th>MPG</th>\n",
       "    </tr>\n",
       "  </thead>\n",
       "  <tbody>\n",
       "    <tr>\n",
       "      <th>HP</th>\n",
       "      <td>1.000000</td>\n",
       "      <td>0.077459</td>\n",
       "      <td>0.973848</td>\n",
       "      <td>0.076513</td>\n",
       "      <td>-0.725038</td>\n",
       "    </tr>\n",
       "    <tr>\n",
       "      <th>VOL</th>\n",
       "      <td>0.077459</td>\n",
       "      <td>1.000000</td>\n",
       "      <td>0.102170</td>\n",
       "      <td>0.999203</td>\n",
       "      <td>-0.529057</td>\n",
       "    </tr>\n",
       "    <tr>\n",
       "      <th>SP</th>\n",
       "      <td>0.973848</td>\n",
       "      <td>0.102170</td>\n",
       "      <td>1.000000</td>\n",
       "      <td>0.102439</td>\n",
       "      <td>-0.687125</td>\n",
       "    </tr>\n",
       "    <tr>\n",
       "      <th>WT</th>\n",
       "      <td>0.076513</td>\n",
       "      <td>0.999203</td>\n",
       "      <td>0.102439</td>\n",
       "      <td>1.000000</td>\n",
       "      <td>-0.526759</td>\n",
       "    </tr>\n",
       "    <tr>\n",
       "      <th>MPG</th>\n",
       "      <td>-0.725038</td>\n",
       "      <td>-0.529057</td>\n",
       "      <td>-0.687125</td>\n",
       "      <td>-0.526759</td>\n",
       "      <td>1.000000</td>\n",
       "    </tr>\n",
       "  </tbody>\n",
       "</table>\n",
       "</div>"
      ],
      "text/plain": [
       "           HP       VOL        SP        WT       MPG\n",
       "HP   1.000000  0.077459  0.973848  0.076513 -0.725038\n",
       "VOL  0.077459  1.000000  0.102170  0.999203 -0.529057\n",
       "SP   0.973848  0.102170  1.000000  0.102439 -0.687125\n",
       "WT   0.076513  0.999203  0.102439  1.000000 -0.526759\n",
       "MPG -0.725038 -0.529057 -0.687125 -0.526759  1.000000"
      ]
     },
     "execution_count": 9,
     "metadata": {},
     "output_type": "execute_result"
    }
   ],
   "source": [
    "cars.corr()"
   ]
  },
  {
   "cell_type": "code",
   "execution_count": 10,
   "id": "de0b35d9",
   "metadata": {},
   "outputs": [],
   "source": [
    "# NOTE: X AND Y CORRELATION SHOULD BE STRONG AND THERE SHOULD BE NO CORRELATION AMONG X COLUMNS\n",
    "## HERE VOL V/S WT IS HAVING STRONG CORRELATION "
   ]
  },
  {
   "cell_type": "code",
   "execution_count": null,
   "id": "8abda659",
   "metadata": {
    "scrolled": false
   },
   "outputs": [],
   "source": [
    "sns.set_style(style='darkgrid')\n",
    "sns.pairplot(cars)"
   ]
  },
  {
   "cell_type": "markdown",
   "id": "cef26091",
   "metadata": {},
   "source": [
    "# preparing the model"
   ]
  },
  {
   "cell_type": "code",
   "execution_count": null,
   "id": "47a89eac",
   "metadata": {},
   "outputs": [],
   "source": [
    "#build the model\n",
    "import statsmodels.formula.api as smf\n",
    "model = smf.ols('MPG~WT+VOL+SP+HP', data= cars).fit()\n",
    "model.summary()"
   ]
  },
  {
   "cell_type": "code",
   "execution_count": null,
   "id": "87291c17",
   "metadata": {},
   "outputs": [],
   "source": [
    "## NOTE :  DESIRED P VALUE SHOULD BE <0.05 FOR 95% CONFIDENCE LEVEL\n",
    "\n",
    "# H0:the coefficient is not significant and has no predictive value\n",
    "# Ha : the coefficient is significant and has good predictive value\n",
    "\n",
    "#if p<0.05 - reject null hypo(H0) or if p>0.05 acept null hypo\n",
    "# p value should be <alpha(0.05 )to be significant."
   ]
  },
  {
   "cell_type": "code",
   "execution_count": null,
   "id": "e0322a26",
   "metadata": {},
   "outputs": [],
   "source": [
    "## TO GET BETA COEFFICIENTS\n",
    "model.params\n"
   ]
  },
  {
   "cell_type": "code",
   "execution_count": null,
   "id": "1f199238",
   "metadata": {},
   "outputs": [],
   "source": [
    "## t values and p values\n",
    "print(model.tvalues,'\\n\\n\\n', model.pvalues)"
   ]
  },
  {
   "cell_type": "code",
   "execution_count": null,
   "id": "7c77b67a",
   "metadata": {},
   "outputs": [],
   "source": [
    "### To improve the model, either we can check which  variable among wt and vol are posing the problem as they are havin\n",
    "# p value> 0.05 and having multicollinearity(thr VIF factor), follow the below steps.i.e doing ols as Simple linear regression btwn MPG & WT\n",
    "## OR MLS betweeen MPG & WT + VOL. then check VIF factor"
   ]
  },
  {
   "cell_type": "code",
   "execution_count": null,
   "id": "0e754597",
   "metadata": {},
   "outputs": [],
   "source": [
    "ml_wt=smf.ols(\"MPG~WT\",data=cars).fit()\n",
    "ml_wt.summary()"
   ]
  },
  {
   "cell_type": "markdown",
   "id": "e0a0a14a",
   "metadata": {},
   "source": []
  },
  {
   "cell_type": "code",
   "execution_count": null,
   "id": "4bdbc91d",
   "metadata": {},
   "outputs": [],
   "source": [
    "print(ml_w.tvalues, '\\n', ml_w.pvalues)"
   ]
  },
  {
   "cell_type": "code",
   "execution_count": null,
   "id": "dba8c16c",
   "metadata": {},
   "outputs": [],
   "source": [
    "ml_wv = smf.ols('MPG~WT+VOL', data= cars).fit()\n",
    "ml_wv.summary()"
   ]
  },
  {
   "cell_type": "code",
   "execution_count": null,
   "id": "d5782ce9",
   "metadata": {},
   "outputs": [],
   "source": [
    "print(ml_wv.tvalues,'\\n',  ml_wv.pvalues)"
   ]
  },
  {
   "cell_type": "code",
   "execution_count": null,
   "id": "becc009f",
   "metadata": {},
   "outputs": [],
   "source": [
    "## from above values we can confirm that p values of WT is significant whereas p values of vol and wt is not\n",
    "## so we should remove either one column , both are not required. so here- vol column to improve the model\n"
   ]
  },
  {
   "cell_type": "markdown",
   "id": "009b5d07",
   "metadata": {},
   "source": [
    "# CALCULATING VIF( VIF= 1/(1-r^2)"
   ]
  },
  {
   "cell_type": "code",
   "execution_count": null,
   "id": "92e57a1d",
   "metadata": {},
   "outputs": [],
   "source": [
    "rsq_hp = smf.ols('HP~WT+VOL+SP', data= cars).fit().rsquared\n",
    "vif_hp = 1/(1-rsq_hp)\n",
    "print(vif_hp)"
   ]
  },
  {
   "cell_type": "code",
   "execution_count": null,
   "id": "0fe02961",
   "metadata": {},
   "outputs": [],
   "source": [
    "rsq_hp = smf.ols('HP~WT+VOL+SP', data= cars).fit().rsquared\n",
    "vif_hp = 1/(1-rsq_hp)\n",
    "rsq_wt = smf.ols('WT~HP+VOL+SP', data= cars).fit().rsquared\n",
    "vif_wt = 1/(1-rsq_wt)\n",
    "rsq_vol = smf.ols('VOL~WT+HP+SP', data= cars).fit().rsquared\n",
    "vif_vol = 1/(1-rsq_vol)\n",
    "rsq_sp = smf.ols('SP~WT+VOL+HP', data= cars).fit().rsquared\n",
    "vif_sp = 1/(1-rsq_sp)\n",
    "\n",
    "## storing the vif values in a data frame\n",
    "\n",
    "d1 = {'Variables' : ['HP', 'WT', 'VOL', 'SP'], 'vif' : [vif_hp,vif_wt,vif_vol,vif_sp]}\n",
    "print(d1)\n"
   ]
  },
  {
   "cell_type": "code",
   "execution_count": null,
   "id": "407a6db8",
   "metadata": {},
   "outputs": [],
   "source": [
    "d1 = {'Variables' : ['HP', 'WT', 'VOL', 'SP'], 'vif' : [vif_hp,vif_wt,vif_vol,vif_sp]}\n",
    "vif_frame = pd.DataFrame(d1)  ## this step is to keep it in a data frame\n",
    "vif_frame"
   ]
  },
  {
   "cell_type": "markdown",
   "id": "2f4962ca",
   "metadata": {},
   "source": [
    "## note: \n",
    "VIF<10 PREFERABLE VARIABLE(PREDICTOR) AND \n",
    "VIF>10 PROBLEMMMATIC VARIABLE(PREDICTOR)- THESE ARE NOT REQUIRED "
   ]
  },
  {
   "cell_type": "code",
   "execution_count": null,
   "id": "5f7e8861",
   "metadata": {},
   "outputs": [],
   "source": [
    "## in the above eg, WT and VOL are problemmatic, which indicates there is a dependency(multicollinearity among wt and vol), \n",
    "## so get rid of any one"
   ]
  },
  {
   "cell_type": "markdown",
   "id": "928ff624",
   "metadata": {},
   "source": [
    "# MULTICOLLINEARITY\n",
    " IT can be checked by correlaation values and VIF factor"
   ]
  },
  {
   "cell_type": "code",
   "execution_count": null,
   "id": "470f5d32",
   "metadata": {},
   "outputs": [],
   "source": [
    "## build model with wt and vol seperately to check its AIC and summary values;  to eliminate the one which has highest AIC values "
   ]
  },
  {
   "cell_type": "markdown",
   "id": "f84ac679",
   "metadata": {},
   "source": [
    "# AIC (AKAIKE INFORMATION CRITERIA)\n"
   ]
  },
  {
   "cell_type": "code",
   "execution_count": null,
   "id": "beb4e634",
   "metadata": {},
   "outputs": [],
   "source": [
    "## build the model with Wt\n",
    "import statsmodels.formula.api as smf\n",
    "model = smf.ols('MPG~WT+SP+HP', data=cars).fit()\n",
    "print(f'AIC: {model.aic},rsq_wt:{rsq_wt}')"
   ]
  },
  {
   "cell_type": "code",
   "execution_count": null,
   "id": "24139e9a",
   "metadata": {},
   "outputs": [],
   "source": [
    "## build the model with Vol\n",
    "import statsmodels.formula.api as smf\n",
    "model = smf.ols('MPG~VOL+SP+HP', data=cars).fit()\n",
    "print(f'AIC: {model.aic},rsq_Vol:{rsq_vol}')\n",
    "model.summary()"
   ]
  },
  {
   "cell_type": "code",
   "execution_count": null,
   "id": "d4f84cd8",
   "metadata": {},
   "outputs": [],
   "source": [
    "### the one with lesser AIC SHould be preffered as per AIC"
   ]
  },
  {
   "cell_type": "markdown",
   "id": "cb29f3af",
   "metadata": {},
   "source": [
    "# Residual Analysis"
   ]
  },
  {
   "cell_type": "markdown",
   "id": "5c6d515c",
   "metadata": {},
   "source": [
    "# Test for normality of residuals(Q-Q Plot)"
   ]
  },
  {
   "cell_type": "code",
   "execution_count": null,
   "id": "d29efc05",
   "metadata": {},
   "outputs": [],
   "source": [
    "## ASSUMPTION IN MLR: the residual values(y-y^) shall follow normal distribution( i.e q-q plot)"
   ]
  },
  {
   "cell_type": "code",
   "execution_count": null,
   "id": "c74610dc",
   "metadata": {
    "scrolled": true
   },
   "outputs": [],
   "source": [
    "import statsmodels.api as sm\n",
    "\n",
    "model = smf.ols('MPG~VOL+SP+HP', data=cars).fit()\n",
    "qqplot = sm.qqplot(model.resid,line='q')\n",
    "plt.title(\"Normal Q-Q plot of residuals\")\n",
    "plt.show()\n",
    "\n",
    "\n"
   ]
  },
  {
   "cell_type": "raw",
   "id": "5ebcd6f5",
   "metadata": {},
   "source": [
    "## Note : Q-Q plot indicates that residuals  are normally distributed as it is indicated by residuals( dots) lies on the  red \n",
    "line(theoritically its normal dist line). Q-Q plot is a standard test that can say the distribution of errors,it indicates only few rows (data points) hav problem  \n",
    "## we already looked about columns which causing problem(vol and wt) and removed wt which is having high AIC \n",
    "## and now we are klooking among data points along rows to check the residuals of the model "
   ]
  },
  {
   "cell_type": "code",
   "execution_count": null,
   "id": "0280fcec",
   "metadata": {},
   "outputs": [],
   "source": [
    "## generally errors show bell shaped curve but in Q-Q plots it follows the red line only if it is normally distributed"
   ]
  },
  {
   "cell_type": "code",
   "execution_count": null,
   "id": "51b06964",
   "metadata": {},
   "outputs": [],
   "source": [
    "list(np.where(model.resid>10))"
   ]
  },
  {
   "cell_type": "code",
   "execution_count": null,
   "id": "1abfb3ba",
   "metadata": {},
   "outputs": [],
   "source": [
    "model.resid"
   ]
  },
  {
   "cell_type": "code",
   "execution_count": null,
   "id": "a99507ab",
   "metadata": {},
   "outputs": [],
   "source": [
    "sns.displot(model.resid, kde = True) ## this curve wont show the exact normality or not, so q-q polot is a std test"
   ]
  },
  {
   "cell_type": "code",
   "execution_count": null,
   "id": "6d8e26fa",
   "metadata": {},
   "outputs": [],
   "source": [
    "sm.graphics.influence_plot(model)"
   ]
  },
  {
   "cell_type": "code",
   "execution_count": null,
   "id": "a281da8a",
   "metadata": {},
   "outputs": [],
   "source": [
    "### it will tell us about the problemmmatic data points which are acting as outliers\n",
    "## here 70 and 76 are having big size dots which are acting as the ifluencing points "
   ]
  },
  {
   "cell_type": "markdown",
   "id": "dbea159b",
   "metadata": {},
   "source": [
    "# REIDUAL PLOT FOR HOMOSCADASTICIT"
   ]
  },
  {
   "cell_type": "code",
   "execution_count": null,
   "id": "cd9ae2e6",
   "metadata": {},
   "outputs": [],
   "source": [
    "model.fittedvalues  ### these are yhat values"
   ]
  },
  {
   "cell_type": "code",
   "execution_count": null,
   "id": "57a4adaa",
   "metadata": {},
   "outputs": [],
   "source": [
    "## to get z scores of errors (z=(x-mu/sigma))\n",
    "def get_standardized_values(vals): ## this is user defined function\n",
    "    return ( vals - vals.mean())/vals.std() ## this is in the form of  (z=(x-mu/sigma))\n",
    "    "
   ]
  },
  {
   "cell_type": "code",
   "execution_count": null,
   "id": "e918891c",
   "metadata": {},
   "outputs": [],
   "source": [
    "plt.figure(figsize=(10,6))\n",
    "## WE WANT TO PLOT Z scores of Y HAT AND  z scores of Y- Y HAT (RESIDUALS)\n",
    "plt.scatter(get_standardized_values(model.fittedvalues),\n",
    "            get_standardized_values(model.resid)) ## this step can be done by performing z scores of y hat and y-yhat values se\n",
    "# seperately and then can be plotted the graphs\n",
    "\n",
    "\n",
    "plt.title('RESIDUAL PLOT')\n",
    "plt.xlabel('Standardized Fitted values') ## these are y hat vallues\n",
    "plt.ylabel('Standardized residual values') ## these are residuals(y-y hat values)\n",
    "plt.show()\n",
    "            "
   ]
  },
  {
   "cell_type": "code",
   "execution_count": null,
   "id": "97bf6b38",
   "metadata": {},
   "outputs": [],
   "source": [
    "## note: it is done to observe whether homoscadasticity is present, here no homoscadasticty is present here"
   ]
  },
  {
   "cell_type": "markdown",
   "id": "318b0390",
   "metadata": {},
   "source": [
    "## homoscadasticity\n",
    "it is a condition in which the variance of the residualm or error term in a regression model is constant. but it is not desirable.\n",
    "if a trend observed in the data points then it is not desirable. which means we should not have constant residuals or any pattern in the data points to avoid homoscadasticity. "
   ]
  },
  {
   "cell_type": "markdown",
   "id": "c0bb8f1a",
   "metadata": {},
   "source": [
    "# note\n",
    "IN MLR , we should observe whether constant variance among residuals(not desired)  and multicollinearity among x columns(not desirable) to fit the best model"
   ]
  },
  {
   "cell_type": "markdown",
   "id": "b3c93eb9",
   "metadata": {},
   "source": [
    "# MODEL DELETION DIAGNOSTICS"
   ]
  },
  {
   "cell_type": "markdown",
   "id": "e22a8f84",
   "metadata": {},
   "source": [
    "# DETECTING INFLUENCERS/OUTLIERS\n"
   ]
  },
  {
   "cell_type": "markdown",
   "id": "504b108d",
   "metadata": {},
   "source": [
    "COOOK's DISTANCE : IT IS USED TO DETECT WHETHER THE DATA POINT IS CAUSING ANY PROBLEM IN MODEL OR NOT BY COMPARING THE MODEL WITH PARTICULAR DATA POINT AND WITHOUT DATA POINT. IT CAN BE KNOWN BY THE COOKS DISTANCE VALUE;\n",
    " IF COOKS POINT IS \n",
    " <0.5- HIGHLY DESIRABLE\n",
    " 0.5 TO 1 - DESIRABLE\n",
    " >1 - NOT DESIRABEL"
   ]
  },
  {
   "cell_type": "code",
   "execution_count": null,
   "id": "67924609",
   "metadata": {},
   "outputs": [],
   "source": [
    "cars.info()"
   ]
  },
  {
   "cell_type": "code",
   "execution_count": null,
   "id": "f77bad95",
   "metadata": {},
   "outputs": [],
   "source": [
    "from statsmodels.graphics.regressionplots import influence_plot\n",
    "model_influence = model.get_influence()\n",
    "(c, _) = model_influence.cooks_distance ## (c,_) means print only c =cooks values from two  types of parameters(c and another one)\n",
    "c\n",
    "### the below are cooks distance points for each point"
   ]
  },
  {
   "cell_type": "markdown",
   "id": "48dbfa63",
   "metadata": {},
   "source": [
    "stemplot\n",
    " here plot the influencers values(cooks distance) using stem plot"
   ]
  },
  {
   "cell_type": "code",
   "execution_count": null,
   "id": "0e6c8f1d",
   "metadata": {},
   "outputs": [],
   "source": [
    "fig = plt.subplots(figsize=(20,7))\n",
    "plt.stem(np.arange(len(cars)), np.round(c,3)) ## here np.array of 80 data points on x axis and np.round(c) on y axis\n",
    "plt.xlabel('Row Index') \n",
    "plt.ylabel('Cooks Distance')\n",
    "plt.show()"
   ]
  },
  {
   "cell_type": "code",
   "execution_count": null,
   "id": "41409c73",
   "metadata": {},
   "outputs": [],
   "source": [
    "(np.argmax(c), np.max(c)) ## to check the maximum data point in the cook distance"
   ]
  },
  {
   "cell_type": "markdown",
   "id": "0454f039",
   "metadata": {},
   "source": [
    "# HIFH INFLUENCE POINTS"
   ]
  },
  {
   "cell_type": "code",
   "execution_count": null,
   "id": "c9c263b8",
   "metadata": {},
   "outputs": [],
   "source": []
  },
  {
   "cell_type": "code",
   "execution_count": null,
   "id": "646b7dfe",
   "metadata": {},
   "outputs": [],
   "source": [
    "cars.shape # ans is (row, column)"
   ]
  },
  {
   "cell_type": "code",
   "execution_count": null,
   "id": "83303dd2",
   "metadata": {},
   "outputs": [],
   "source": [
    "k= cars.shape[1] ## indicates column\n",
    "n= cars.shape[0] # indicates row\n",
    "leverage_cutoff = 3*((k+1)/n) ### k means num of columns= 3*(5+1)/81\n",
    "leverage_cutoff "
   ]
  },
  {
   "cell_type": "code",
   "execution_count": null,
   "id": "a27a9a87",
   "metadata": {},
   "outputs": [],
   "source": [
    "from statsmodels.graphics.regressionplots import influence_plot\n",
    "import matplotlib.pyplot as plt\n",
    "\n",
    "influence_plot(model,alpha=0.5)\n",
    "\n",
    "y =[i for i in range(-2,8)]\n",
    "x=[leverage_cutoff for i in range(10)]\n",
    "print(x)\n",
    "plt.plot(x,y,'r+')\n"
   ]
  },
  {
   "cell_type": "code",
   "execution_count": null,
   "id": "7c66084e",
   "metadata": {},
   "outputs": [],
   "source": [
    "discard the here red colur plus mark indicates the influence points (70 and 76). so discard those dots"
   ]
  },
  {
   "cell_type": "code",
   "execution_count": null,
   "id": "19329fca",
   "metadata": {},
   "outputs": [],
   "source": [
    "sm.graphics.influence_plot(model)"
   ]
  },
  {
   "cell_type": "code",
   "execution_count": null,
   "id": "ce6e5c25",
   "metadata": {},
   "outputs": [],
   "source": [
    "From the above plot, it is evident that data point 70 and 76 are the influencers which are the border points \n",
    "and its size is also large so discard it\n"
   ]
  },
  {
   "cell_type": "code",
   "execution_count": null,
   "id": "a8fd0a7f",
   "metadata": {},
   "outputs": [],
   "source": [
    "cars[cars.index.isin([70,76])]"
   ]
  },
  {
   "cell_type": "code",
   "execution_count": null,
   "id": "84e3758d",
   "metadata": {},
   "outputs": [],
   "source": [
    "import pandas as pd\n",
    "cars_new = pd.read_csv('Cars.csv')\n",
    "cars_new.head()"
   ]
  },
  {
   "cell_type": "code",
   "execution_count": null,
   "id": "24903fed",
   "metadata": {},
   "outputs": [],
   "source": []
  },
  {
   "cell_type": "code",
   "execution_count": null,
   "id": "25e80977",
   "metadata": {},
   "outputs": [],
   "source": [
    "### See the differences in HP and other variables values\n",
    "cars.head()"
   ]
  },
  {
   "cell_type": "code",
   "execution_count": null,
   "id": "b64402cc",
   "metadata": {},
   "outputs": [],
   "source": [
    "### discard the data points which areinfluencers and reasign the row number (reset_index())\n",
    "car1=cars_new.drop(cars_new.index[[70,76]], axis=0).reset_index()\n",
    "car1  ## below here are the 2 index columns , one with deleting the 70 and 76 other one with original index column"
   ]
  },
  {
   "cell_type": "code",
   "execution_count": null,
   "id": "b7315fc1",
   "metadata": {},
   "outputs": [],
   "source": [
    "## DROP THE ORIGINAL INDEX\n",
    "car1= car1.drop(['index'],axis=1)\n",
    "car1"
   ]
  },
  {
   "cell_type": "markdown",
   "id": "43171311",
   "metadata": {},
   "source": [
    "# build the model with wither VOL or WT"
   ]
  },
  {
   "cell_type": "code",
   "execution_count": 19,
   "id": "a9e28387",
   "metadata": {},
   "outputs": [
    {
     "ename": "NameError",
     "evalue": "name 'car1' is not defined",
     "output_type": "error",
     "traceback": [
      "\u001b[1;31m---------------------------------------------------------------------------\u001b[0m",
      "\u001b[1;31mNameError\u001b[0m                                 Traceback (most recent call last)",
      "Cell \u001b[1;32mIn[19], line 2\u001b[0m\n\u001b[0;32m      1\u001b[0m \u001b[38;5;66;03m## exclude variable \"WT\" and generate R-squared and AIC values\u001b[39;00m\n\u001b[1;32m----> 2\u001b[0m final_ml_v \u001b[38;5;241m=\u001b[39m smf\u001b[38;5;241m.\u001b[39mols(\u001b[38;5;124m'\u001b[39m\u001b[38;5;124mMPG~VOL+SP+HP\u001b[39m\u001b[38;5;124m'\u001b[39m, data \u001b[38;5;241m=\u001b[39m car1)\u001b[38;5;241m.\u001b[39mfit()\n",
      "\u001b[1;31mNameError\u001b[0m: name 'car1' is not defined"
     ]
    }
   ],
   "source": [
    "## exclude variable \"WT\" and generate R-squared and AIC values\n",
    "final_ml_v = smf.ols('MPG~VOL+SP+HP', data = car1).fit()"
   ]
  },
  {
   "cell_type": "code",
   "execution_count": 20,
   "id": "675b30a5",
   "metadata": {},
   "outputs": [
    {
     "ename": "NameError",
     "evalue": "name 'final_ml_v' is not defined",
     "output_type": "error",
     "traceback": [
      "\u001b[1;31m---------------------------------------------------------------------------\u001b[0m",
      "\u001b[1;31mNameError\u001b[0m                                 Traceback (most recent call last)",
      "Cell \u001b[1;32mIn[20], line 1\u001b[0m\n\u001b[1;32m----> 1\u001b[0m (final_ml_v\u001b[38;5;241m.\u001b[39mrsquared,final_ml_v\u001b[38;5;241m.\u001b[39maic,final_ml_v\u001b[38;5;241m.\u001b[39mbic)\n",
      "\u001b[1;31mNameError\u001b[0m: name 'final_ml_v' is not defined"
     ]
    }
   ],
   "source": [
    " (final_ml_v.rsquared,final_ml_v.aic,final_ml_v.bic)"
   ]
  },
  {
   "cell_type": "code",
   "execution_count": 21,
   "id": "a214fe27",
   "metadata": {},
   "outputs": [
    {
     "ename": "NameError",
     "evalue": "name 'car1' is not defined",
     "output_type": "error",
     "traceback": [
      "\u001b[1;31m---------------------------------------------------------------------------\u001b[0m",
      "\u001b[1;31mNameError\u001b[0m                                 Traceback (most recent call last)",
      "Cell \u001b[1;32mIn[21], line 2\u001b[0m\n\u001b[0;32m      1\u001b[0m \u001b[38;5;66;03m## exclude variable \"vol\" and generate R-squared and AIC values\u001b[39;00m\n\u001b[1;32m----> 2\u001b[0m final_ml_v \u001b[38;5;241m=\u001b[39m smf\u001b[38;5;241m.\u001b[39mols(\u001b[38;5;124m'\u001b[39m\u001b[38;5;124mMPG~WT+SP+HP\u001b[39m\u001b[38;5;124m'\u001b[39m, data \u001b[38;5;241m=\u001b[39m car1)\u001b[38;5;241m.\u001b[39mfit()\n",
      "\u001b[1;31mNameError\u001b[0m: name 'car1' is not defined"
     ]
    }
   ],
   "source": [
    "## exclude variable \"vol\" and generate R-squared and AIC values\n",
    "final_ml_w = smf.ols('MPG~WT+SP+HP', data = car1).fit()"
   ]
  },
  {
   "cell_type": "code",
   "execution_count": 22,
   "id": "0c82f6cf",
   "metadata": {},
   "outputs": [
    {
     "ename": "NameError",
     "evalue": "name 'final_ml_v' is not defined",
     "output_type": "error",
     "traceback": [
      "\u001b[1;31m---------------------------------------------------------------------------\u001b[0m",
      "\u001b[1;31mNameError\u001b[0m                                 Traceback (most recent call last)",
      "Cell \u001b[1;32mIn[22], line 1\u001b[0m\n\u001b[1;32m----> 1\u001b[0m (final_ml_v\u001b[38;5;241m.\u001b[39mrsquared,final_ml_v\u001b[38;5;241m.\u001b[39maic,final_ml_v\u001b[38;5;241m.\u001b[39mbic)\n",
      "\u001b[1;31mNameError\u001b[0m: name 'final_ml_v' is not defined"
     ]
    }
   ],
   "source": [
    "(final_ml_w.rsquared,final_ml_w.aic,final_ml_w.bic)"
   ]
  },
  {
   "cell_type": "code",
   "execution_count": null,
   "id": "ef7a339c",
   "metadata": {},
   "outputs": [],
   "source": [
    "### comparing above R square value  and AIC values, model\"final_ml_v' has high r square andnlow AIC values . hence inclue \n",
    "variable'VOL' so that multicollinearity problem would be resolved."
   ]
  },
  {
   "cell_type": "code",
   "execution_count": null,
   "id": "c3712ed4",
   "metadata": {},
   "outputs": [],
   "source": [
    "## build the model on the new data\n",
    "final_ml_V = smf.ols('MPG~VOL+SP+HP', data=car1).fit()"
   ]
  },
  {
   "cell_type": "code",
   "execution_count": null,
   "id": "74a3d796",
   "metadata": {},
   "outputs": [],
   "source": []
  },
  {
   "cell_type": "code",
   "execution_count": null,
   "id": "b1d60716",
   "metadata": {},
   "outputs": [],
   "source": []
  },
  {
   "cell_type": "code",
   "execution_count": null,
   "id": "7a3b4bdc",
   "metadata": {},
   "outputs": [],
   "source": []
  },
  {
   "cell_type": "markdown",
   "id": "45cf0b1b",
   "metadata": {},
   "source": [
    "# "
   ]
  },
  {
   "cell_type": "code",
   "execution_count": null,
   "id": "56da94e2",
   "metadata": {},
   "outputs": [],
   "source": [
    "### predict on all given x coolumns\n",
    "pred_y = final_ml_v.predict(car2[['VOL','SP','HP']])\n",
    "pred_y"
   ]
  },
  {
   "cell_type": "code",
   "execution_count": null,
   "id": "8c775b82",
   "metadata": {},
   "outputs": [],
   "source": []
  },
  {
   "cell_type": "code",
   "execution_count": null,
   "id": "41b28a00",
   "metadata": {},
   "outputs": [],
   "source": []
  },
  {
   "cell_type": "code",
   "execution_count": null,
   "id": "6ed4965f",
   "metadata": {},
   "outputs": [],
   "source": []
  },
  {
   "cell_type": "code",
   "execution_count": null,
   "id": "9b52a181",
   "metadata": {},
   "outputs": [],
   "source": []
  },
  {
   "cell_type": "code",
   "execution_count": null,
   "id": "f90f1917",
   "metadata": {},
   "outputs": [],
   "source": []
  }
 ],
 "metadata": {
  "kernelspec": {
   "display_name": "Python 3 (ipykernel)",
   "language": "python",
   "name": "python3"
  },
  "language_info": {
   "codemirror_mode": {
    "name": "ipython",
    "version": 3
   },
   "file_extension": ".py",
   "mimetype": "text/x-python",
   "name": "python",
   "nbconvert_exporter": "python",
   "pygments_lexer": "ipython3",
   "version": "3.11.3"
  }
 },
 "nbformat": 4,
 "nbformat_minor": 5
}
