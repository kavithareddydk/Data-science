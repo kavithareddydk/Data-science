{
 "cells": [
  {
   "cell_type": "code",
   "execution_count": null,
   "id": "58a921ea",
   "metadata": {},
   "outputs": [],
   "source": [
    "import numpy as np"
   ]
  },
  {
   "cell_type": "code",
   "execution_count": null,
   "id": "e20b78d8",
   "metadata": {},
   "outputs": [],
   "source": [
    "a=np.array([1,3,5,9,8,20,34,65])"
   ]
  },
  {
   "cell_type": "code",
   "execution_count": null,
   "id": "20bd9e50",
   "metadata": {},
   "outputs": [],
   "source": [
    "np.mean(a)"
   ]
  },
  {
   "cell_type": "code",
   "execution_count": null,
   "id": "51a7c050",
   "metadata": {},
   "outputs": [],
   "source": [
    "np.median(a)"
   ]
  },
  {
   "cell_type": "code",
   "execution_count": null,
   "id": "baa86f06",
   "metadata": {},
   "outputs": [],
   "source": [
    "np.std(a)"
   ]
  },
  {
   "cell_type": "code",
   "execution_count": null,
   "id": "34784c5e",
   "metadata": {},
   "outputs": [],
   "source": [
    "var=np.std(a)***2"
   ]
  },
  {
   "cell_type": "code",
   "execution_count": null,
   "id": "efca931b",
   "metadata": {},
   "outputs": [],
   "source": [
    "## In class excercise"
   ]
  },
  {
   "cell_type": "code",
   "execution_count": null,
   "id": "1ca8f7fa",
   "metadata": {},
   "outputs": [],
   "source": [
    "x = [44,50,38,96,42,47,39,46,50]\n",
    "x_bar = np.mean(x)\n",
    "x_var = np.var(x)\n",
    "x_std = np.std(x)\n",
    "print(\"mean: \", x_bar,\"Variance: \",x_var,\"Standard deviation: \", x_std)"
   ]
  },
  {
   "cell_type": "code",
   "execution_count": null,
   "id": "5f4d4ddf",
   "metadata": {},
   "outputs": [],
   "source": [
    "np.std(x)"
   ]
  },
  {
   "cell_type": "code",
   "execution_count": null,
   "id": "2e219d4b",
   "metadata": {},
   "outputs": [],
   "source": [
    "## SAMPLE VARIANCE AND STANDARD DEVIATION\n",
    "x_bar = np.mean(x)\n",
    "ssd=0\n",
    "for i in x:\n",
    "    ssd=ssd+(i-x_bar)**2\n",
    "x_varm = ssd/(len(x)-1)\n",
    "x_stdm =np.sqrt(x_varm)\n",
    "print(x_varm, x_stdm)"
   ]
  },
  {
   "cell_type": "code",
   "execution_count": 8,
   "id": "ec755a8b",
   "metadata": {},
   "outputs": [],
   "source": [
    "import pandas as pd\n",
    "import numpy as np\n",
    "import matplotlib.pyplot as plt"
   ]
  },
  {
   "cell_type": "code",
   "execution_count": 9,
   "id": "8b52019e",
   "metadata": {},
   "outputs": [],
   "source": [
    "Y = np.array([10,30,5,8,25,17,19,100,210])"
   ]
  },
  {
   "cell_type": "code",
   "execution_count": 10,
   "id": "cf781963",
   "metadata": {},
   "outputs": [
    {
     "data": {
      "text/plain": [
       "{'whiskers': [<matplotlib.lines.Line2D at 0x20727a87e10>,\n",
       "  <matplotlib.lines.Line2D at 0x207276f1b10>],\n",
       " 'caps': [<matplotlib.lines.Line2D at 0x20727d4c890>,\n",
       "  <matplotlib.lines.Line2D at 0x20727d4e390>],\n",
       " 'boxes': [<matplotlib.lines.Line2D at 0x20727aa3b90>],\n",
       " 'medians': [<matplotlib.lines.Line2D at 0x20727d4e050>],\n",
       " 'fliers': [<matplotlib.lines.Line2D at 0x20727d4e0d0>],\n",
       " 'means': []}"
      ]
     },
     "execution_count": 10,
     "metadata": {},
     "output_type": "execute_result"
    },
    {
     "data": {
      "image/png": "[encoded data removed]",
      "text/plain": [
       "<Figure size 640x480 with 1 Axes>"
      ]
     },
     "metadata": {},
     "output_type": "display_data"
    }
   ],
   "source": [
    "plt.boxplot(Y)"
   ]
  },
  {
   "cell_type": "code",
   "execution_count": 31,
   "id": "2a7a86b4",
   "metadata": {},
   "outputs": [],
   "source": [
    "z= (10,30,5,8,25,17,19, 6000,8000)"
   ]
  },
  {
   "cell_type": "code",
   "execution_count": 32,
   "id": "4c08b8ce",
   "metadata": {},
   "outputs": [
    {
     "name": "stdout",
     "output_type": "stream",
     "text": [
      "[   5    8   10   17   19   25   30 6000 8000]\n"
     ]
    }
   ],
   "source": [
    "k= np.sort(z)\n",
    "print(k)"
   ]
  },
  {
   "cell_type": "code",
   "execution_count": 33,
   "id": "5a1c0f08",
   "metadata": {},
   "outputs": [
    {
     "data": {
      "text/plain": [
       "19.0"
      ]
     },
     "execution_count": 33,
     "metadata": {},
     "output_type": "execute_result"
    }
   ],
   "source": [
    "## find median: \n",
    "np.median(k)"
   ]
  },
  {
   "cell_type": "code",
   "execution_count": 42,
   "id": "b37465aa",
   "metadata": {},
   "outputs": [
    {
     "data": {
      "text/plain": [
       "3015.0"
      ]
     },
     "execution_count": 42,
     "metadata": {},
     "output_type": "execute_result"
    }
   ],
   "source": [
    "np.median(k[5:])"
   ]
  },
  {
   "cell_type": "code",
   "execution_count": 40,
   "id": "8fa780a5",
   "metadata": {},
   "outputs": [
    {
     "data": {
      "text/plain": [
       "9.0"
      ]
     },
     "execution_count": 40,
     "metadata": {},
     "output_type": "execute_result"
    }
   ],
   "source": [
    "np.median(k[0:4]) ### doubtful"
   ]
  },
  {
   "cell_type": "code",
   "execution_count": 47,
   "id": "4762c09c",
   "metadata": {},
   "outputs": [
    {
     "data": {
      "text/plain": [
       "{'whiskers': [<matplotlib.lines.Line2D at 0x207286c1e50>,\n",
       "  <matplotlib.lines.Line2D at 0x20728799010>],\n",
       " 'caps': [<matplotlib.lines.Line2D at 0x207287998d0>,\n",
       "  <matplotlib.lines.Line2D at 0x2072879a1d0>],\n",
       " 'boxes': [<matplotlib.lines.Line2D at 0x2072874bb90>],\n",
       " 'medians': [<matplotlib.lines.Line2D at 0x2072879a910>],\n",
       " 'fliers': [<matplotlib.lines.Line2D at 0x20728798410>],\n",
       " 'means': []}"
      ]
     },
     "execution_count": 47,
     "metadata": {},
     "output_type": "execute_result"
    },
    {
     "data": {
      "image/png": "[encoded data removed]",
      "text/plain": [
       "<Figure size 640x480 with 1 Axes>"
      ]
     },
     "metadata": {},
     "output_type": "display_data"
    }
   ],
   "source": [
    "plt.boxplot(k)"
   ]
  },
  {
   "cell_type": "code",
   "execution_count": 3,
   "id": "8a505252",
   "metadata": {},
   "outputs": [],
   "source": [
    "import pandas as pd \n",
    "\n",
    "df=pd.read_csv(r\"C:\\Users\\User\\Desktop\\python classes\\Salaries.csv\")"
   ]
  },
  {
   "cell_type": "code",
   "execution_count": 4,
   "id": "8bab7890",
   "metadata": {},
   "outputs": [
    {
     "data": {
      "text/html": [
       "<div>\n",
       "<style scoped>\n",
       "    .dataframe tbody tr th:only-of-type {\n",
       "        vertical-align: middle;\n",
       "    }\n",
       "\n",
       "    .dataframe tbody tr th {\n",
       "        vertical-align: top;\n",
       "    }\n",
       "\n",
       "    .dataframe thead th {\n",
       "        text-align: right;\n",
       "    }\n",
       "</style>\n",
       "<table border=\"1\" class=\"dataframe\">\n",
       "  <thead>\n",
       "    <tr style=\"text-align: right;\">\n",
       "      <th></th>\n",
       "      <th>rank</th>\n",
       "      <th>discipline</th>\n",
       "      <th>phd</th>\n",
       "      <th>service</th>\n",
       "      <th>sex</th>\n",
       "      <th>salary</th>\n",
       "    </tr>\n",
       "  </thead>\n",
       "  <tbody>\n",
       "    <tr>\n",
       "      <th>0</th>\n",
       "      <td>Prof</td>\n",
       "      <td>B</td>\n",
       "      <td>56</td>\n",
       "      <td>49</td>\n",
       "      <td>Male</td>\n",
       "      <td>186960</td>\n",
       "    </tr>\n",
       "    <tr>\n",
       "      <th>1</th>\n",
       "      <td>Prof</td>\n",
       "      <td>A</td>\n",
       "      <td>12</td>\n",
       "      <td>6</td>\n",
       "      <td>Male</td>\n",
       "      <td>93000</td>\n",
       "    </tr>\n",
       "    <tr>\n",
       "      <th>2</th>\n",
       "      <td>Prof</td>\n",
       "      <td>A</td>\n",
       "      <td>23</td>\n",
       "      <td>20</td>\n",
       "      <td>Male</td>\n",
       "      <td>110515</td>\n",
       "    </tr>\n",
       "    <tr>\n",
       "      <th>3</th>\n",
       "      <td>Prof</td>\n",
       "      <td>A</td>\n",
       "      <td>40</td>\n",
       "      <td>31</td>\n",
       "      <td>Male</td>\n",
       "      <td>131205</td>\n",
       "    </tr>\n",
       "    <tr>\n",
       "      <th>4</th>\n",
       "      <td>Prof</td>\n",
       "      <td>B</td>\n",
       "      <td>20</td>\n",
       "      <td>18</td>\n",
       "      <td>Male</td>\n",
       "      <td>104800</td>\n",
       "    </tr>\n",
       "    <tr>\n",
       "      <th>...</th>\n",
       "      <td>...</td>\n",
       "      <td>...</td>\n",
       "      <td>...</td>\n",
       "      <td>...</td>\n",
       "      <td>...</td>\n",
       "      <td>...</td>\n",
       "    </tr>\n",
       "    <tr>\n",
       "      <th>73</th>\n",
       "      <td>Prof</td>\n",
       "      <td>B</td>\n",
       "      <td>18</td>\n",
       "      <td>10</td>\n",
       "      <td>Female</td>\n",
       "      <td>105450</td>\n",
       "    </tr>\n",
       "    <tr>\n",
       "      <th>74</th>\n",
       "      <td>AssocProf</td>\n",
       "      <td>B</td>\n",
       "      <td>19</td>\n",
       "      <td>6</td>\n",
       "      <td>Female</td>\n",
       "      <td>104542</td>\n",
       "    </tr>\n",
       "    <tr>\n",
       "      <th>75</th>\n",
       "      <td>Prof</td>\n",
       "      <td>B</td>\n",
       "      <td>17</td>\n",
       "      <td>17</td>\n",
       "      <td>Female</td>\n",
       "      <td>124312</td>\n",
       "    </tr>\n",
       "    <tr>\n",
       "      <th>76</th>\n",
       "      <td>Prof</td>\n",
       "      <td>A</td>\n",
       "      <td>28</td>\n",
       "      <td>14</td>\n",
       "      <td>Female</td>\n",
       "      <td>109954</td>\n",
       "    </tr>\n",
       "    <tr>\n",
       "      <th>77</th>\n",
       "      <td>Prof</td>\n",
       "      <td>A</td>\n",
       "      <td>23</td>\n",
       "      <td>15</td>\n",
       "      <td>Female</td>\n",
       "      <td>109646</td>\n",
       "    </tr>\n",
       "  </tbody>\n",
       "</table>\n",
       "<p>78 rows × 6 columns</p>\n",
       "</div>"
      ],
      "text/plain": [
       "         rank discipline  phd  service     sex  salary\n",
       "0        Prof          B   56       49    Male  186960\n",
       "1        Prof          A   12        6    Male   93000\n",
       "2        Prof          A   23       20    Male  110515\n",
       "3        Prof          A   40       31    Male  131205\n",
       "4        Prof          B   20       18    Male  104800\n",
       "..        ...        ...  ...      ...     ...     ...\n",
       "73       Prof          B   18       10  Female  105450\n",
       "74  AssocProf          B   19        6  Female  104542\n",
       "75       Prof          B   17       17  Female  124312\n",
       "76       Prof          A   28       14  Female  109954\n",
       "77       Prof          A   23       15  Female  109646\n",
       "\n",
       "[78 rows x 6 columns]"
      ]
     },
     "execution_count": 4,
     "metadata": {},
     "output_type": "execute_result"
    }
   ],
   "source": [
    "df"
   ]
  },
  {
   "cell_type": "code",
   "execution_count": null,
   "id": "10b8caab",
   "metadata": {},
   "outputs": [],
   "source": []
  },
  {
   "cell_type": "code",
   "execution_count": null,
   "id": "9bf26ae7",
   "metadata": {},
   "outputs": [],
   "source": []
  },
  {
   "cell_type": "code",
   "execution_count": null,
   "id": "864d64f0",
   "metadata": {},
   "outputs": [],
   "source": []
  },
  {
   "cell_type": "code",
   "execution_count": null,
   "id": "63d8a636",
   "metadata": {},
   "outputs": [],
   "source": []
  }
 ],
 "metadata": {
  "kernelspec": {
   "display_name": "Python 3 (ipykernel)",
   "language": "python",
   "name": "python3"
  },
  "language_info": {
   "codemirror_mode": {
    "name": "ipython",
    "version": 3
   },
   "file_extension": ".py",
   "mimetype": "text/x-python",
   "name": "python",
   "nbconvert_exporter": "python",
   "pygments_lexer": "ipython3",
   "version": "3.11.3"
  }
 },
 "nbformat": 4,
 "nbformat_minor": 5
}
